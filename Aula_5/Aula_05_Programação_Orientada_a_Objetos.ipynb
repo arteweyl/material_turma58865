{
  "cells": [
    {
      "cell_type": "markdown",
      "metadata": {
        "id": "nzVJ6s9o46VR"
      },
      "source": [
        "# Programação Orientada a Objetos"
      ]
    },
    {
      "cell_type": "code",
      "execution_count": null,
      "metadata": {
        "id": "9JOLuzEX46VT"
      },
      "outputs": [],
      "source": [
        "class Cachorro:\n",
        "    def __init__(self, nome, idade, raca):\n",
        "        self.nome = nome\n",
        "        self.idade = idade\n",
        "        self.raca = raca\n",
        "\n",
        "    def latir(self):\n",
        "        print(\"Au!\")"
      ]
    },
    {
      "cell_type": "code",
      "execution_count": null,
      "metadata": {
        "id": "_NvSwdz846VV"
      },
      "outputs": [],
      "source": [
        "scooby = Cachorro(\"Scooby-Doo\", 6, \"Dogue Alemão\")"
      ]
    },
    {
      "cell_type": "code",
      "execution_count": null,
      "metadata": {
        "id": "mEIGR8-s46VV",
        "outputId": "d4063ee8-d24f-4243-a9a2-dbec66cef2b5"
      },
      "outputs": [
        {
          "name": "stdout",
          "output_type": "stream",
          "text": [
            "Dogue Alemão\n"
          ]
        }
      ],
      "source": [
        "print(scooby.raca)"
      ]
    },
    {
      "cell_type": "code",
      "execution_count": null,
      "metadata": {
        "id": "Pi-ZHPec46VW",
        "outputId": "deed190b-67d4-4942-ee62-8f3899a10d4b"
      },
      "outputs": [
        {
          "name": "stdout",
          "output_type": "stream",
          "text": [
            "Au!\n"
          ]
        }
      ],
      "source": [
        "scooby.latir()"
      ]
    },
    {
      "cell_type": "code",
      "source": [
        "class Caneta:\n",
        "    def __init__(self,cor,marca):\n",
        "        self.cor = cor\n",
        "        self.marca = marca\n",
        "\n",
        "    def escrever(self,escrita):\n",
        "            print(escrita)"
      ],
      "metadata": {
        "id": "JhnZ0uEV9-7W"
      },
      "execution_count": null,
      "outputs": []
    },
    {
      "cell_type": "code",
      "source": [
        "canetaAzul = Caneta(\"azul\",\"bic\")"
      ],
      "metadata": {
        "id": "W8KekFWI-BaM"
      },
      "execution_count": null,
      "outputs": []
    },
    {
      "cell_type": "code",
      "source": [
        "print(canetaAzul.cor)\n",
        "print(canetaAzul.marca)\n",
        "\n",
        "canetaAzul.escrever(\"azul caneta\")"
      ],
      "metadata": {
        "id": "a97HHX1f-IH5"
      },
      "execution_count": null,
      "outputs": []
    },
    {
      "cell_type": "code",
      "execution_count": null,
      "metadata": {
        "id": "KL2JOKoL46VW"
      },
      "outputs": [],
      "source": [
        "class Pessoa:\n",
        "    def __init__(self, nome, idade):\n",
        "        self.nome = nome\n",
        "        self.idade = idade\n",
        "\n",
        "    def aniversario(self):\n",
        "        self.idade += 1"
      ]
    },
    {
      "cell_type": "code",
      "execution_count": null,
      "metadata": {
        "id": "mC9ycDfY46VW",
        "outputId": "bfc90366-74d7-44d5-f0e5-d83446d3b2bf"
      },
      "outputs": [
        {
          "data": {
            "text/plain": [
              "32"
            ]
          },
          "execution_count": 12,
          "metadata": {},
          "output_type": "execute_result"
        }
      ],
      "source": [
        "joao = Pessoa(\"Joao Vitor\", 32)\n",
        "joao.idade"
      ]
    },
    {
      "cell_type": "code",
      "execution_count": null,
      "metadata": {
        "id": "e3_hpm1H46VX",
        "outputId": "c0108032-1a3b-406c-cfb8-af163ea2ebda"
      },
      "outputs": [
        {
          "data": {
            "text/plain": [
              "27"
            ]
          },
          "execution_count": 14,
          "metadata": {},
          "output_type": "execute_result"
        }
      ],
      "source": [
        "joao.idade = 25\n",
        "joao.aniversario()\n",
        "joao.aniversario()\n",
        "joao.idade"
      ]
    },
    {
      "cell_type": "code",
      "source": [
        "class Livro:\n",
        "    def __init__(self,titulo,autor,ano_publicacao,editora=None,paginas=None):\n",
        "        self.titulo = titulo\n",
        "        self.paginas = paginas\n",
        "        self.autor = autor\n",
        "        self.editora = editora\n",
        "        self.ano_publicacao = ano_publicacao\n",
        "\n",
        "    def detalhes(self):\n",
        "        print(f\"{self.titulo} - {self.autor} -  {self.ano_publicacao} \")\n",
        "\n",
        "    def resumir(self,resumo):\n",
        "        self.resumo = resumo"
      ],
      "metadata": {
        "id": "R_jMIjRo-UKT"
      },
      "execution_count": null,
      "outputs": []
    },
    {
      "cell_type": "code",
      "source": [
        "whutheringHeights  = Livro(\"whutering Heights\",\"Emilly Bronte\", \"1868\")"
      ],
      "metadata": {
        "id": "uHh5qOc5-e21"
      },
      "execution_count": null,
      "outputs": []
    },
    {
      "cell_type": "code",
      "source": [
        "resumo = ''''Whuthering Heights', em PT 'Morro dos Ventos Uivantes', escrito por Emily Brontë,\n",
        " narra a tragédia de amor e vingança entre Heathcliff e Catherine Earnshaw, ambientada na sombria paisagem dos charnecas de Yorkshire.\n",
        " A obra, publicada em 1847, é um marco da literatura gótica e explora temas de paixão, vingança e destino.\n",
        "'''"
      ],
      "metadata": {
        "id": "4-C2SK6f_Lmm"
      },
      "execution_count": null,
      "outputs": []
    },
    {
      "cell_type": "code",
      "source": [
        "whutheringHeights.resumir(resumo)"
      ],
      "metadata": {
        "id": "K7ACzWmh-_pH"
      },
      "execution_count": null,
      "outputs": []
    },
    {
      "cell_type": "code",
      "source": [
        "print(whutheringHeights.resumo)"
      ],
      "metadata": {
        "colab": {
          "base_uri": "https://localhost:8080/"
        },
        "id": "VumpW_li_1UR",
        "outputId": "62e9d798-5c82-4bd9-fd20-e614b600d9e4"
      },
      "execution_count": null,
      "outputs": [
        {
          "output_type": "stream",
          "name": "stdout",
          "text": [
            "'Whuthering Heights', em PT 'Morro dos Ventos Uivantes', escrito por Emily Brontë,\n",
            " narra a tragédia de amor e vingança entre Heathcliff e Catherine Earnshaw, ambientada na sombria paisagem dos charnecas de Yorkshire.\n",
            " A obra, publicada em 1847, é um marco da literatura gótica e explora temas de paixão, vingança e destino.\n",
            "\n"
          ]
        }
      ]
    },
    {
      "cell_type": "markdown",
      "source": [
        "### Exercício\n",
        "Crie uma classe Retangulo que tenha os atributos base e altura. Além disso que possua os métodos area() e perimetro(). Crie um objeto e teste os métodos.\n"
      ],
      "metadata": {
        "id": "i52k6qUgAU--"
      }
    },
    {
      "cell_type": "code",
      "source": [
        "class Retangulo:\n",
        "    def __init__(self, base, altura):\n",
        "        self.base = base\n",
        "        self.altura = altura\n",
        "\n",
        "    def area(self):\n",
        "        return self.base * self.altura\n",
        "\n",
        "    def perimetro(self):\n",
        "        return 2 * (self.base + self.altura)\n",
        "\n",
        "# Instanciando a classe Retangulo com base = 5 e altura = 3\n",
        "retangulo1 = Retangulo(5, 3)\n",
        "\n",
        "area1 = retangulo1.area()\n",
        "perimetro1 = retangulo1.perimetro()\n",
        "\n",
        "print(f\"Área: {area1}\")\n",
        "print(f\"Perímetro: {perimetro1}\")"
      ],
      "metadata": {
        "id": "oNjGpdk_ASfK"
      },
      "execution_count": null,
      "outputs": []
    },
    {
      "cell_type": "markdown",
      "source": [
        "### Exercício\n",
        "Crie uma classe Conta que tenha os atributos saldo e titular e os métodos depositar() e sacar(). Em seguida, instancie essa classe com um saldo inicial e realize algumas operações de depósito e saque para verificar se o saldo está sendo atualizado corretamente."
      ],
      "metadata": {
        "id": "qW1Kihn1EkPs"
      }
    },
    {
      "cell_type": "code",
      "source": [
        "class Conta:\n",
        "    def __init__(self, titular, saldo=0):\n",
        "        self.titular = titular\n",
        "        self.saldo = saldo\n",
        "\n",
        "    def depositar(self, valor):\n",
        "        self.saldo += valor\n",
        "        print(f\"Saldo: {self.saldo}\")\n",
        "\n",
        "    def sacar(self, valor):\n",
        "        if self.saldo >= valor:\n",
        "            self.saldo -= valor\n",
        "            print(f\"Saldo: {self.saldo}\")\n",
        "        else:\n",
        "            print(\"Saldo insuficiente.\")\n",
        "\n",
        "# Instanciando a classe Conta com um saldo inicial de R$1000,00\n",
        "conta1 = Conta(\"Carlos\", 1000)\n",
        "\n",
        "conta1.depositar(500)\n",
        "conta1.sacar(200)\n",
        "conta1.sacar(1500)"
      ],
      "metadata": {
        "id": "YLjEY9TMEpCG"
      },
      "execution_count": null,
      "outputs": []
    },
    {
      "cell_type": "markdown",
      "metadata": {
        "id": "TqcNr_H946VX"
      },
      "source": [
        "# Bibliotecas\n",
        "\n",
        "São modulos de código escritos por outras pessoas, que podem ser reaproveitados e utilizados no nosso próprio código.\n",
        "\n",
        "Pense em como um artigo que é usado como referência em uma monografia, ele trás itens de observação para a pesquisa, que disserta, usa como citação ou amplia o conhecimento."
      ]
    },
    {
      "cell_type": "code",
      "execution_count": null,
      "metadata": {
        "id": "Fwa3xWOU46VX",
        "outputId": "902dba36-8ef8-4bd0-abe5-ab247b1743a0"
      },
      "outputs": [
        {
          "data": {
            "text/plain": [
              "2.0"
            ]
          },
          "execution_count": 16,
          "metadata": {},
          "output_type": "execute_result"
        }
      ],
      "source": [
        "import numpy as np\n",
        "\n",
        "np.sqrt(4)"
      ]
    },
    {
      "cell_type": "code",
      "execution_count": null,
      "metadata": {
        "id": "wZr4vp4s46VX",
        "outputId": "1e8e4aa4-75d6-415b-8abc-324b1bb7602a"
      },
      "outputs": [
        {
          "name": "stdout",
          "output_type": "stream",
          "text": [
            "200\n"
          ]
        }
      ],
      "source": [
        "import requests\n",
        "\n",
        "response = requests.get(\"https://www.google.com\")\n",
        "print(response.status_code)  # 200"
      ]
    },
    {
      "cell_type": "code",
      "execution_count": null,
      "metadata": {
        "id": "7i-DY12i46VY"
      },
      "outputs": [],
      "source": [
        "from numpy import mean\n",
        "# ou\n",
        "from numpy import *"
      ]
    },
    {
      "cell_type": "code",
      "execution_count": null,
      "metadata": {
        "id": "-ZOGlN8j46VY",
        "outputId": "c353263f-8407-4496-a2ae-a2cce8246a47"
      },
      "outputs": [
        {
          "name": "stdout",
          "output_type": "stream",
          "text": [
            "O dobro de 10 é 20\n"
          ]
        }
      ],
      "source": [
        "from utils import mostra_dobro\n",
        "mostra_dobro(10)"
      ]
    },
    {
      "cell_type": "code",
      "execution_count": null,
      "metadata": {
        "id": "lsJyVJ7W46VY"
      },
      "outputs": [],
      "source": []
    }
  ],
  "metadata": {
    "kernelspec": {
      "display_name": "Python 3",
      "language": "python",
      "name": "python3"
    },
    "language_info": {
      "codemirror_mode": {
        "name": "ipython",
        "version": 3
      },
      "file_extension": ".py",
      "mimetype": "text/x-python",
      "name": "python",
      "nbconvert_exporter": "python",
      "pygments_lexer": "ipython3",
      "version": "3.10.8"
    },
    "orig_nbformat": 4,
    "vscode": {
      "interpreter": {
        "hash": "9f8688d2bc69c748babb560adc9158621fb8aef49546882c3e4c6326402dd0cc"
      }
    },
    "colab": {
      "provenance": []
    }
  },
  "nbformat": 4,
  "nbformat_minor": 0
}