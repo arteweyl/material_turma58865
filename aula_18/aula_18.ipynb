{
 "cells": [
  {
   "cell_type": "code",
   "execution_count": 2,
   "metadata": {},
   "outputs": [
    {
     "name": "stdout",
     "output_type": "stream",
     "text": [
      "Defaulting to user installation because normal site-packages is not writeable\n",
      "Collecting pyspark\n",
      "  Using cached pyspark-3.5.1-py2.py3-none-any.whl\n",
      "Collecting py4j==0.10.9.7 (from pyspark)\n",
      "  Using cached py4j-0.10.9.7-py2.py3-none-any.whl.metadata (1.5 kB)\n",
      "Using cached py4j-0.10.9.7-py2.py3-none-any.whl (200 kB)\n",
      "Installing collected packages: py4j, pyspark\n",
      "Successfully installed py4j-0.10.9.7 pyspark-3.5.1\n",
      "Note: you may need to restart the kernel to use updated packages.\n"
     ]
    }
   ],
   "source": [
    "%pip install pyspark"
   ]
  },
  {
   "cell_type": "code",
   "execution_count": 3,
   "metadata": {},
   "outputs": [],
   "source": [
    "from pyspark.sql import SparkSession\n",
    "import pyspark as ps\n",
    "import pandas as pd"
   ]
  },
  {
   "cell_type": "code",
   "execution_count": 6,
   "metadata": {},
   "outputs": [
    {
     "name": "stderr",
     "output_type": "stream",
     "text": [
      "your 131072x1 screen size is bogus. expect trouble\n",
      "24/06/18 20:08:53 WARN Utils: Your hostname, Artemisia-PC resolves to a loopback address: 127.0.1.1; using 10.255.255.254 instead (on interface lo)\n",
      "24/06/18 20:08:53 WARN Utils: Set SPARK_LOCAL_IP if you need to bind to another address\n",
      "Setting default log level to \"WARN\".\n",
      "To adjust logging level use sc.setLogLevel(newLevel). For SparkR, use setLogLevel(newLevel).\n",
      "24/06/18 20:08:54 WARN NativeCodeLoader: Unable to load native-hadoop library for your platform... using builtin-java classes where applicable\n"
     ]
    }
   ],
   "source": [
    "spark = (SparkSession\n",
    "         .builder\n",
    "         .appName(\"coderhouse pyspark\")\n",
    "         .config(\"spark.alguma.configuracao\",'algum-valor')\n",
    "         .getOrCreate())"
   ]
  },
  {
   "cell_type": "code",
   "execution_count": 7,
   "metadata": {},
   "outputs": [
    {
     "data": {
      "text/plain": [
       "<pyspark.conf.SparkConf at 0x7fbb61782ce0>"
      ]
     },
     "execution_count": 7,
     "metadata": {},
     "output_type": "execute_result"
    }
   ],
   "source": [
    "conf = ps.SparkConf().setMaster('yarn-client').setAppName('sparK-mer')\n",
    "conf.set(\"spark.executor.heartbeatInterval\",\"3600s\")"
   ]
  },
  {
   "cell_type": "code",
   "execution_count": 8,
   "metadata": {},
   "outputs": [
    {
     "data": {
      "text/plain": [
       "'3.5.1'"
      ]
     },
     "execution_count": 8,
     "metadata": {},
     "output_type": "execute_result"
    }
   ],
   "source": [
    "spark.version"
   ]
  },
  {
   "cell_type": "code",
   "execution_count": 9,
   "metadata": {},
   "outputs": [
    {
     "name": "stderr",
     "output_type": "stream",
     "text": [
      "                                                                                \r"
     ]
    }
   ],
   "source": [
    "df_spark = spark.read.format('csv').option('header','true').load('../datasets/Cancer_Data.csv')"
   ]
  },
  {
   "cell_type": "code",
   "execution_count": 10,
   "metadata": {},
   "outputs": [
    {
     "data": {
      "text/plain": [
       "pyspark.sql.dataframe.DataFrame"
      ]
     },
     "execution_count": 10,
     "metadata": {},
     "output_type": "execute_result"
    }
   ],
   "source": [
    "type(df_spark)"
   ]
  },
  {
   "cell_type": "code",
   "execution_count": 11,
   "metadata": {},
   "outputs": [
    {
     "name": "stderr",
     "output_type": "stream",
     "text": [
      "24/06/18 20:15:01 WARN SparkStringUtils: Truncated the string representation of a plan since it was too large. This behavior can be adjusted by setting 'spark.sql.debug.maxToStringFields'.\n",
      "24/06/18 20:15:02 WARN CSVHeaderChecker: CSV header does not conform to the schema.\n",
      " Header: id, diagnosis, radius_mean, texture_mean, perimeter_mean, area_mean, smoothness_mean, compactness_mean, concavity_mean, concave points_mean, symmetry_mean, fractal_dimension_mean, radius_se, texture_se, perimeter_se, area_se, smoothness_se, compactness_se, concavity_se, concave points_se, symmetry_se, fractal_dimension_se, radius_worst, texture_worst, perimeter_worst, area_worst, smoothness_worst, compactness_worst, concavity_worst, concave points_worst, symmetry_worst, fractal_dimension_worst, \n",
      " Schema: id, diagnosis, radius_mean, texture_mean, perimeter_mean, area_mean, smoothness_mean, compactness_mean, concavity_mean, concave points_mean, symmetry_mean, fractal_dimension_mean, radius_se, texture_se, perimeter_se, area_se, smoothness_se, compactness_se, concavity_se, concave points_se, symmetry_se, fractal_dimension_se, radius_worst, texture_worst, perimeter_worst, area_worst, smoothness_worst, compactness_worst, concavity_worst, concave points_worst, symmetry_worst, fractal_dimension_worst, _c32\n",
      "Expected: _c32 but found: \n",
      "CSV file: file:///home/arteweyl/coderhouse/python/turma-58865/datasets/Cancer_Data.csv\n",
      "                                                                                \r"
     ]
    }
   ],
   "source": [
    "df_pd = df_spark.toPandas()"
   ]
  },
  {
   "cell_type": "code",
   "execution_count": 12,
   "metadata": {},
   "outputs": [
    {
     "data": {
      "text/plain": [
       "pandas.core.frame.DataFrame"
      ]
     },
     "execution_count": 12,
     "metadata": {},
     "output_type": "execute_result"
    }
   ],
   "source": [
    "type(df_pd)"
   ]
  },
  {
   "cell_type": "code",
   "execution_count": 14,
   "metadata": {},
   "outputs": [
    {
     "data": {
      "text/html": [
       "<div>\n",
       "<style scoped>\n",
       "    .dataframe tbody tr th:only-of-type {\n",
       "        vertical-align: middle;\n",
       "    }\n",
       "\n",
       "    .dataframe tbody tr th {\n",
       "        vertical-align: top;\n",
       "    }\n",
       "\n",
       "    .dataframe thead th {\n",
       "        text-align: right;\n",
       "    }\n",
       "</style>\n",
       "<table border=\"1\" class=\"dataframe\">\n",
       "  <thead>\n",
       "    <tr style=\"text-align: right;\">\n",
       "      <th></th>\n",
       "      <th>id</th>\n",
       "      <th>diagnosis</th>\n",
       "      <th>radius_mean</th>\n",
       "      <th>texture_mean</th>\n",
       "      <th>perimeter_mean</th>\n",
       "      <th>area_mean</th>\n",
       "      <th>smoothness_mean</th>\n",
       "      <th>compactness_mean</th>\n",
       "      <th>concavity_mean</th>\n",
       "      <th>concave points_mean</th>\n",
       "      <th>...</th>\n",
       "      <th>texture_worst</th>\n",
       "      <th>perimeter_worst</th>\n",
       "      <th>area_worst</th>\n",
       "      <th>smoothness_worst</th>\n",
       "      <th>compactness_worst</th>\n",
       "      <th>concavity_worst</th>\n",
       "      <th>concave points_worst</th>\n",
       "      <th>symmetry_worst</th>\n",
       "      <th>fractal_dimension_worst</th>\n",
       "      <th>Unnamed: 32</th>\n",
       "    </tr>\n",
       "  </thead>\n",
       "  <tbody>\n",
       "    <tr>\n",
       "      <th>0</th>\n",
       "      <td>842302</td>\n",
       "      <td>M</td>\n",
       "      <td>17.99</td>\n",
       "      <td>10.38</td>\n",
       "      <td>122.80</td>\n",
       "      <td>1001.0</td>\n",
       "      <td>0.11840</td>\n",
       "      <td>0.27760</td>\n",
       "      <td>0.30010</td>\n",
       "      <td>0.14710</td>\n",
       "      <td>...</td>\n",
       "      <td>17.33</td>\n",
       "      <td>184.60</td>\n",
       "      <td>2019.0</td>\n",
       "      <td>0.16220</td>\n",
       "      <td>0.66560</td>\n",
       "      <td>0.7119</td>\n",
       "      <td>0.2654</td>\n",
       "      <td>0.4601</td>\n",
       "      <td>0.11890</td>\n",
       "      <td>NaN</td>\n",
       "    </tr>\n",
       "    <tr>\n",
       "      <th>1</th>\n",
       "      <td>842517</td>\n",
       "      <td>M</td>\n",
       "      <td>20.57</td>\n",
       "      <td>17.77</td>\n",
       "      <td>132.90</td>\n",
       "      <td>1326.0</td>\n",
       "      <td>0.08474</td>\n",
       "      <td>0.07864</td>\n",
       "      <td>0.08690</td>\n",
       "      <td>0.07017</td>\n",
       "      <td>...</td>\n",
       "      <td>23.41</td>\n",
       "      <td>158.80</td>\n",
       "      <td>1956.0</td>\n",
       "      <td>0.12380</td>\n",
       "      <td>0.18660</td>\n",
       "      <td>0.2416</td>\n",
       "      <td>0.1860</td>\n",
       "      <td>0.2750</td>\n",
       "      <td>0.08902</td>\n",
       "      <td>NaN</td>\n",
       "    </tr>\n",
       "    <tr>\n",
       "      <th>2</th>\n",
       "      <td>84300903</td>\n",
       "      <td>M</td>\n",
       "      <td>19.69</td>\n",
       "      <td>21.25</td>\n",
       "      <td>130.00</td>\n",
       "      <td>1203.0</td>\n",
       "      <td>0.10960</td>\n",
       "      <td>0.15990</td>\n",
       "      <td>0.19740</td>\n",
       "      <td>0.12790</td>\n",
       "      <td>...</td>\n",
       "      <td>25.53</td>\n",
       "      <td>152.50</td>\n",
       "      <td>1709.0</td>\n",
       "      <td>0.14440</td>\n",
       "      <td>0.42450</td>\n",
       "      <td>0.4504</td>\n",
       "      <td>0.2430</td>\n",
       "      <td>0.3613</td>\n",
       "      <td>0.08758</td>\n",
       "      <td>NaN</td>\n",
       "    </tr>\n",
       "    <tr>\n",
       "      <th>3</th>\n",
       "      <td>84348301</td>\n",
       "      <td>M</td>\n",
       "      <td>11.42</td>\n",
       "      <td>20.38</td>\n",
       "      <td>77.58</td>\n",
       "      <td>386.1</td>\n",
       "      <td>0.14250</td>\n",
       "      <td>0.28390</td>\n",
       "      <td>0.24140</td>\n",
       "      <td>0.10520</td>\n",
       "      <td>...</td>\n",
       "      <td>26.50</td>\n",
       "      <td>98.87</td>\n",
       "      <td>567.7</td>\n",
       "      <td>0.20980</td>\n",
       "      <td>0.86630</td>\n",
       "      <td>0.6869</td>\n",
       "      <td>0.2575</td>\n",
       "      <td>0.6638</td>\n",
       "      <td>0.17300</td>\n",
       "      <td>NaN</td>\n",
       "    </tr>\n",
       "    <tr>\n",
       "      <th>4</th>\n",
       "      <td>84358402</td>\n",
       "      <td>M</td>\n",
       "      <td>20.29</td>\n",
       "      <td>14.34</td>\n",
       "      <td>135.10</td>\n",
       "      <td>1297.0</td>\n",
       "      <td>0.10030</td>\n",
       "      <td>0.13280</td>\n",
       "      <td>0.19800</td>\n",
       "      <td>0.10430</td>\n",
       "      <td>...</td>\n",
       "      <td>16.67</td>\n",
       "      <td>152.20</td>\n",
       "      <td>1575.0</td>\n",
       "      <td>0.13740</td>\n",
       "      <td>0.20500</td>\n",
       "      <td>0.4000</td>\n",
       "      <td>0.1625</td>\n",
       "      <td>0.2364</td>\n",
       "      <td>0.07678</td>\n",
       "      <td>NaN</td>\n",
       "    </tr>\n",
       "    <tr>\n",
       "      <th>...</th>\n",
       "      <td>...</td>\n",
       "      <td>...</td>\n",
       "      <td>...</td>\n",
       "      <td>...</td>\n",
       "      <td>...</td>\n",
       "      <td>...</td>\n",
       "      <td>...</td>\n",
       "      <td>...</td>\n",
       "      <td>...</td>\n",
       "      <td>...</td>\n",
       "      <td>...</td>\n",
       "      <td>...</td>\n",
       "      <td>...</td>\n",
       "      <td>...</td>\n",
       "      <td>...</td>\n",
       "      <td>...</td>\n",
       "      <td>...</td>\n",
       "      <td>...</td>\n",
       "      <td>...</td>\n",
       "      <td>...</td>\n",
       "      <td>...</td>\n",
       "    </tr>\n",
       "    <tr>\n",
       "      <th>564</th>\n",
       "      <td>926424</td>\n",
       "      <td>M</td>\n",
       "      <td>21.56</td>\n",
       "      <td>22.39</td>\n",
       "      <td>142.00</td>\n",
       "      <td>1479.0</td>\n",
       "      <td>0.11100</td>\n",
       "      <td>0.11590</td>\n",
       "      <td>0.24390</td>\n",
       "      <td>0.13890</td>\n",
       "      <td>...</td>\n",
       "      <td>26.40</td>\n",
       "      <td>166.10</td>\n",
       "      <td>2027.0</td>\n",
       "      <td>0.14100</td>\n",
       "      <td>0.21130</td>\n",
       "      <td>0.4107</td>\n",
       "      <td>0.2216</td>\n",
       "      <td>0.2060</td>\n",
       "      <td>0.07115</td>\n",
       "      <td>NaN</td>\n",
       "    </tr>\n",
       "    <tr>\n",
       "      <th>565</th>\n",
       "      <td>926682</td>\n",
       "      <td>M</td>\n",
       "      <td>20.13</td>\n",
       "      <td>28.25</td>\n",
       "      <td>131.20</td>\n",
       "      <td>1261.0</td>\n",
       "      <td>0.09780</td>\n",
       "      <td>0.10340</td>\n",
       "      <td>0.14400</td>\n",
       "      <td>0.09791</td>\n",
       "      <td>...</td>\n",
       "      <td>38.25</td>\n",
       "      <td>155.00</td>\n",
       "      <td>1731.0</td>\n",
       "      <td>0.11660</td>\n",
       "      <td>0.19220</td>\n",
       "      <td>0.3215</td>\n",
       "      <td>0.1628</td>\n",
       "      <td>0.2572</td>\n",
       "      <td>0.06637</td>\n",
       "      <td>NaN</td>\n",
       "    </tr>\n",
       "    <tr>\n",
       "      <th>566</th>\n",
       "      <td>926954</td>\n",
       "      <td>M</td>\n",
       "      <td>16.60</td>\n",
       "      <td>28.08</td>\n",
       "      <td>108.30</td>\n",
       "      <td>858.1</td>\n",
       "      <td>0.08455</td>\n",
       "      <td>0.10230</td>\n",
       "      <td>0.09251</td>\n",
       "      <td>0.05302</td>\n",
       "      <td>...</td>\n",
       "      <td>34.12</td>\n",
       "      <td>126.70</td>\n",
       "      <td>1124.0</td>\n",
       "      <td>0.11390</td>\n",
       "      <td>0.30940</td>\n",
       "      <td>0.3403</td>\n",
       "      <td>0.1418</td>\n",
       "      <td>0.2218</td>\n",
       "      <td>0.07820</td>\n",
       "      <td>NaN</td>\n",
       "    </tr>\n",
       "    <tr>\n",
       "      <th>567</th>\n",
       "      <td>927241</td>\n",
       "      <td>M</td>\n",
       "      <td>20.60</td>\n",
       "      <td>29.33</td>\n",
       "      <td>140.10</td>\n",
       "      <td>1265.0</td>\n",
       "      <td>0.11780</td>\n",
       "      <td>0.27700</td>\n",
       "      <td>0.35140</td>\n",
       "      <td>0.15200</td>\n",
       "      <td>...</td>\n",
       "      <td>39.42</td>\n",
       "      <td>184.60</td>\n",
       "      <td>1821.0</td>\n",
       "      <td>0.16500</td>\n",
       "      <td>0.86810</td>\n",
       "      <td>0.9387</td>\n",
       "      <td>0.2650</td>\n",
       "      <td>0.4087</td>\n",
       "      <td>0.12400</td>\n",
       "      <td>NaN</td>\n",
       "    </tr>\n",
       "    <tr>\n",
       "      <th>568</th>\n",
       "      <td>92751</td>\n",
       "      <td>B</td>\n",
       "      <td>7.76</td>\n",
       "      <td>24.54</td>\n",
       "      <td>47.92</td>\n",
       "      <td>181.0</td>\n",
       "      <td>0.05263</td>\n",
       "      <td>0.04362</td>\n",
       "      <td>0.00000</td>\n",
       "      <td>0.00000</td>\n",
       "      <td>...</td>\n",
       "      <td>30.37</td>\n",
       "      <td>59.16</td>\n",
       "      <td>268.6</td>\n",
       "      <td>0.08996</td>\n",
       "      <td>0.06444</td>\n",
       "      <td>0.0000</td>\n",
       "      <td>0.0000</td>\n",
       "      <td>0.2871</td>\n",
       "      <td>0.07039</td>\n",
       "      <td>NaN</td>\n",
       "    </tr>\n",
       "  </tbody>\n",
       "</table>\n",
       "<p>569 rows × 33 columns</p>\n",
       "</div>"
      ],
      "text/plain": [
       "           id diagnosis  radius_mean  texture_mean  perimeter_mean  area_mean  \\\n",
       "0      842302         M        17.99         10.38          122.80     1001.0   \n",
       "1      842517         M        20.57         17.77          132.90     1326.0   \n",
       "2    84300903         M        19.69         21.25          130.00     1203.0   \n",
       "3    84348301         M        11.42         20.38           77.58      386.1   \n",
       "4    84358402         M        20.29         14.34          135.10     1297.0   \n",
       "..        ...       ...          ...           ...             ...        ...   \n",
       "564    926424         M        21.56         22.39          142.00     1479.0   \n",
       "565    926682         M        20.13         28.25          131.20     1261.0   \n",
       "566    926954         M        16.60         28.08          108.30      858.1   \n",
       "567    927241         M        20.60         29.33          140.10     1265.0   \n",
       "568     92751         B         7.76         24.54           47.92      181.0   \n",
       "\n",
       "     smoothness_mean  compactness_mean  concavity_mean  concave points_mean  \\\n",
       "0            0.11840           0.27760         0.30010              0.14710   \n",
       "1            0.08474           0.07864         0.08690              0.07017   \n",
       "2            0.10960           0.15990         0.19740              0.12790   \n",
       "3            0.14250           0.28390         0.24140              0.10520   \n",
       "4            0.10030           0.13280         0.19800              0.10430   \n",
       "..               ...               ...             ...                  ...   \n",
       "564          0.11100           0.11590         0.24390              0.13890   \n",
       "565          0.09780           0.10340         0.14400              0.09791   \n",
       "566          0.08455           0.10230         0.09251              0.05302   \n",
       "567          0.11780           0.27700         0.35140              0.15200   \n",
       "568          0.05263           0.04362         0.00000              0.00000   \n",
       "\n",
       "     ...  texture_worst  perimeter_worst  area_worst  smoothness_worst  \\\n",
       "0    ...          17.33           184.60      2019.0           0.16220   \n",
       "1    ...          23.41           158.80      1956.0           0.12380   \n",
       "2    ...          25.53           152.50      1709.0           0.14440   \n",
       "3    ...          26.50            98.87       567.7           0.20980   \n",
       "4    ...          16.67           152.20      1575.0           0.13740   \n",
       "..   ...            ...              ...         ...               ...   \n",
       "564  ...          26.40           166.10      2027.0           0.14100   \n",
       "565  ...          38.25           155.00      1731.0           0.11660   \n",
       "566  ...          34.12           126.70      1124.0           0.11390   \n",
       "567  ...          39.42           184.60      1821.0           0.16500   \n",
       "568  ...          30.37            59.16       268.6           0.08996   \n",
       "\n",
       "     compactness_worst  concavity_worst  concave points_worst  symmetry_worst  \\\n",
       "0              0.66560           0.7119                0.2654          0.4601   \n",
       "1              0.18660           0.2416                0.1860          0.2750   \n",
       "2              0.42450           0.4504                0.2430          0.3613   \n",
       "3              0.86630           0.6869                0.2575          0.6638   \n",
       "4              0.20500           0.4000                0.1625          0.2364   \n",
       "..                 ...              ...                   ...             ...   \n",
       "564            0.21130           0.4107                0.2216          0.2060   \n",
       "565            0.19220           0.3215                0.1628          0.2572   \n",
       "566            0.30940           0.3403                0.1418          0.2218   \n",
       "567            0.86810           0.9387                0.2650          0.4087   \n",
       "568            0.06444           0.0000                0.0000          0.2871   \n",
       "\n",
       "     fractal_dimension_worst  Unnamed: 32  \n",
       "0                    0.11890          NaN  \n",
       "1                    0.08902          NaN  \n",
       "2                    0.08758          NaN  \n",
       "3                    0.17300          NaN  \n",
       "4                    0.07678          NaN  \n",
       "..                       ...          ...  \n",
       "564                  0.07115          NaN  \n",
       "565                  0.06637          NaN  \n",
       "566                  0.07820          NaN  \n",
       "567                  0.12400          NaN  \n",
       "568                  0.07039          NaN  \n",
       "\n",
       "[569 rows x 33 columns]"
      ]
     },
     "execution_count": 14,
     "metadata": {},
     "output_type": "execute_result"
    }
   ],
   "source": [
    "df_pd_2 = pd.read_csv('../datasets/Cancer_Data.csv')\n",
    "df_pd_2"
   ]
  },
  {
   "cell_type": "code",
   "execution_count": 15,
   "metadata": {},
   "outputs": [
    {
     "name": "stdout",
     "output_type": "stream",
     "text": [
      "+--------+---------+-----------+------------+--------------+---------+---------------+----------------+--------------+-------------------+-------------+----------------------+---------+----------+------------+-------+-------------+--------------+------------+-----------------+-----------+--------------------+------------+-------------+---------------+----------+----------------+-----------------+---------------+--------------------+--------------+-----------------------+----+\n",
      "|      id|diagnosis|radius_mean|texture_mean|perimeter_mean|area_mean|smoothness_mean|compactness_mean|concavity_mean|concave points_mean|symmetry_mean|fractal_dimension_mean|radius_se|texture_se|perimeter_se|area_se|smoothness_se|compactness_se|concavity_se|concave points_se|symmetry_se|fractal_dimension_se|radius_worst|texture_worst|perimeter_worst|area_worst|smoothness_worst|compactness_worst|concavity_worst|concave points_worst|symmetry_worst|fractal_dimension_worst|_c32|\n",
      "+--------+---------+-----------+------------+--------------+---------+---------------+----------------+--------------+-------------------+-------------+----------------------+---------+----------+------------+-------+-------------+--------------+------------+-----------------+-----------+--------------------+------------+-------------+---------------+----------+----------------+-----------------+---------------+--------------------+--------------+-----------------------+----+\n",
      "|  842302|        M|      17.99|       10.38|         122.8|     1001|         0.1184|          0.2776|        0.3001|             0.1471|       0.2419|               0.07871|    1.095|    0.9053|       8.589|  153.4|     0.006399|       0.04904|     0.05373|          0.01587|    0.03003|            0.006193|       25.38|        17.33|          184.6|      2019|          0.1622|           0.6656|         0.7119|              0.2654|        0.4601|                 0.1189|NULL|\n",
      "|  842517|        M|      20.57|       17.77|         132.9|     1326|        0.08474|         0.07864|        0.0869|            0.07017|       0.1812|               0.05667|   0.5435|    0.7339|       3.398|  74.08|     0.005225|       0.01308|      0.0186|           0.0134|    0.01389|            0.003532|       24.99|        23.41|          158.8|      1956|          0.1238|           0.1866|         0.2416|               0.186|         0.275|                0.08902|NULL|\n",
      "|84300903|        M|      19.69|       21.25|           130|     1203|         0.1096|          0.1599|        0.1974|             0.1279|       0.2069|               0.05999|   0.7456|    0.7869|       4.585|  94.03|      0.00615|       0.04006|     0.03832|          0.02058|     0.0225|            0.004571|       23.57|        25.53|          152.5|      1709|          0.1444|           0.4245|         0.4504|               0.243|        0.3613|                0.08758|NULL|\n",
      "|84348301|        M|      11.42|       20.38|         77.58|    386.1|         0.1425|          0.2839|        0.2414|             0.1052|       0.2597|               0.09744|   0.4956|     1.156|       3.445|  27.23|      0.00911|       0.07458|     0.05661|          0.01867|    0.05963|            0.009208|       14.91|         26.5|          98.87|     567.7|          0.2098|           0.8663|         0.6869|              0.2575|        0.6638|                  0.173|NULL|\n",
      "|84358402|        M|      20.29|       14.34|         135.1|     1297|         0.1003|          0.1328|         0.198|             0.1043|       0.1809|               0.05883|   0.7572|    0.7813|       5.438|  94.44|      0.01149|       0.02461|     0.05688|          0.01885|    0.01756|            0.005115|       22.54|        16.67|          152.2|      1575|          0.1374|            0.205|            0.4|              0.1625|        0.2364|                0.07678|NULL|\n",
      "|  843786|        M|      12.45|        15.7|         82.57|    477.1|         0.1278|            0.17|        0.1578|            0.08089|       0.2087|               0.07613|   0.3345|    0.8902|       2.217|  27.19|      0.00751|       0.03345|     0.03672|          0.01137|    0.02165|            0.005082|       15.47|        23.75|          103.4|     741.6|          0.1791|           0.5249|         0.5355|              0.1741|        0.3985|                 0.1244|NULL|\n",
      "|  844359|        M|      18.25|       19.98|         119.6|     1040|        0.09463|           0.109|        0.1127|              0.074|       0.1794|               0.05742|   0.4467|    0.7732|        3.18|  53.91|     0.004314|       0.01382|     0.02254|          0.01039|    0.01369|            0.002179|       22.88|        27.66|          153.2|      1606|          0.1442|           0.2576|         0.3784|              0.1932|        0.3063|                0.08368|NULL|\n",
      "|84458202|        M|      13.71|       20.83|          90.2|    577.9|         0.1189|          0.1645|       0.09366|            0.05985|       0.2196|               0.07451|   0.5835|     1.377|       3.856|  50.96|     0.008805|       0.03029|     0.02488|          0.01448|    0.01486|            0.005412|       17.06|        28.14|          110.6|       897|          0.1654|           0.3682|         0.2678|              0.1556|        0.3196|                 0.1151|NULL|\n",
      "|  844981|        M|         13|       21.82|          87.5|    519.8|         0.1273|          0.1932|        0.1859|            0.09353|        0.235|               0.07389|   0.3063|     1.002|       2.406|  24.32|     0.005731|       0.03502|     0.03553|          0.01226|    0.02143|            0.003749|       15.49|        30.73|          106.2|     739.3|          0.1703|           0.5401|          0.539|               0.206|        0.4378|                 0.1072|NULL|\n",
      "|84501001|        M|      12.46|       24.04|         83.97|    475.9|         0.1186|          0.2396|        0.2273|            0.08543|        0.203|               0.08243|   0.2976|     1.599|       2.039|  23.94|     0.007149|       0.07217|     0.07743|          0.01432|    0.01789|             0.01008|       15.09|        40.68|          97.65|     711.4|          0.1853|            1.058|          1.105|               0.221|        0.4366|                 0.2075|NULL|\n",
      "|  845636|        M|      16.02|       23.24|         102.7|    797.8|        0.08206|         0.06669|       0.03299|            0.03323|       0.1528|               0.05697|   0.3795|     1.187|       2.466|  40.51|     0.004029|      0.009269|     0.01101|         0.007591|     0.0146|            0.003042|       19.19|        33.88|          123.8|      1150|          0.1181|           0.1551|         0.1459|             0.09975|        0.2948|                0.08452|NULL|\n",
      "|84610002|        M|      15.78|       17.89|         103.6|      781|         0.0971|          0.1292|       0.09954|            0.06606|       0.1842|               0.06082|   0.5058|    0.9849|       3.564|  54.16|     0.005771|       0.04061|     0.02791|          0.01282|    0.02008|            0.004144|       20.42|        27.28|          136.5|      1299|          0.1396|           0.5609|         0.3965|               0.181|        0.3792|                 0.1048|NULL|\n",
      "|  846226|        M|      19.17|        24.8|         132.4|     1123|         0.0974|          0.2458|        0.2065|             0.1118|       0.2397|                 0.078|   0.9555|     3.568|       11.07|  116.2|     0.003139|       0.08297|      0.0889|           0.0409|    0.04484|             0.01284|       20.96|        29.94|          151.7|      1332|          0.1037|           0.3903|         0.3639|              0.1767|        0.3176|                 0.1023|NULL|\n",
      "|  846381|        M|      15.85|       23.95|         103.7|    782.7|        0.08401|          0.1002|       0.09938|            0.05364|       0.1847|               0.05338|   0.4033|     1.078|       2.903|  36.58|     0.009769|       0.03126|     0.05051|          0.01992|    0.02981|            0.003002|       16.84|        27.66|            112|     876.5|          0.1131|           0.1924|         0.2322|              0.1119|        0.2809|                0.06287|NULL|\n",
      "|84667401|        M|      13.73|       22.61|          93.6|    578.3|         0.1131|          0.2293|        0.2128|            0.08025|       0.2069|               0.07682|   0.2121|     1.169|       2.061|  19.21|     0.006429|       0.05936|     0.05501|          0.01628|    0.01961|            0.008093|       15.03|        32.01|          108.8|     697.7|          0.1651|           0.7725|         0.6943|              0.2208|        0.3596|                 0.1431|NULL|\n",
      "|84799002|        M|      14.54|       27.54|         96.73|    658.8|         0.1139|          0.1595|        0.1639|            0.07364|       0.2303|               0.07077|     0.37|     1.033|       2.879|  32.55|     0.005607|        0.0424|     0.04741|           0.0109|    0.01857|            0.005466|       17.46|        37.13|          124.1|     943.2|          0.1678|           0.6577|         0.7026|              0.1712|        0.4218|                 0.1341|NULL|\n",
      "|  848406|        M|      14.68|       20.13|         94.74|    684.5|        0.09867|           0.072|       0.07395|            0.05259|       0.1586|               0.05922|   0.4727|      1.24|       3.195|   45.4|     0.005718|       0.01162|     0.01998|          0.01109|     0.0141|            0.002085|       19.07|        30.88|          123.4|      1138|          0.1464|           0.1871|         0.2914|              0.1609|        0.3029|                0.08216|NULL|\n",
      "|84862001|        M|      16.13|       20.68|         108.1|    798.8|          0.117|          0.2022|        0.1722|             0.1028|       0.2164|               0.07356|   0.5692|     1.073|       3.854|  54.18|     0.007026|       0.02501|     0.03188|          0.01297|    0.01689|            0.004142|       20.96|        31.48|          136.8|      1315|          0.1789|           0.4233|         0.4784|              0.2073|        0.3706|                 0.1142|NULL|\n",
      "|  849014|        M|      19.81|       22.15|           130|     1260|        0.09831|          0.1027|        0.1479|            0.09498|       0.1582|               0.05395|   0.7582|     1.017|       5.865|  112.4|     0.006494|       0.01893|     0.03391|          0.01521|    0.01356|            0.001997|       27.32|        30.88|          186.8|      2398|          0.1512|            0.315|         0.5372|              0.2388|        0.2768|                0.07615|NULL|\n",
      "| 8510426|        B|      13.54|       14.36|         87.46|    566.3|        0.09779|         0.08129|       0.06664|            0.04781|       0.1885|               0.05766|   0.2699|    0.7886|       2.058|  23.56|     0.008462|        0.0146|     0.02387|          0.01315|     0.0198|              0.0023|       15.11|        19.26|           99.7|     711.2|           0.144|           0.1773|          0.239|              0.1288|        0.2977|                0.07259|NULL|\n",
      "+--------+---------+-----------+------------+--------------+---------+---------------+----------------+--------------+-------------------+-------------+----------------------+---------+----------+------------+-------+-------------+--------------+------------+-----------------+-----------+--------------------+------------+-------------+---------------+----------+----------------+-----------------+---------------+--------------------+--------------+-----------------------+----+\n",
      "only showing top 20 rows\n",
      "\n"
     ]
    },
    {
     "name": "stderr",
     "output_type": "stream",
     "text": [
      "24/06/18 20:16:48 WARN CSVHeaderChecker: CSV header does not conform to the schema.\n",
      " Header: id, diagnosis, radius_mean, texture_mean, perimeter_mean, area_mean, smoothness_mean, compactness_mean, concavity_mean, concave points_mean, symmetry_mean, fractal_dimension_mean, radius_se, texture_se, perimeter_se, area_se, smoothness_se, compactness_se, concavity_se, concave points_se, symmetry_se, fractal_dimension_se, radius_worst, texture_worst, perimeter_worst, area_worst, smoothness_worst, compactness_worst, concavity_worst, concave points_worst, symmetry_worst, fractal_dimension_worst, \n",
      " Schema: id, diagnosis, radius_mean, texture_mean, perimeter_mean, area_mean, smoothness_mean, compactness_mean, concavity_mean, concave points_mean, symmetry_mean, fractal_dimension_mean, radius_se, texture_se, perimeter_se, area_se, smoothness_se, compactness_se, concavity_se, concave points_se, symmetry_se, fractal_dimension_se, radius_worst, texture_worst, perimeter_worst, area_worst, smoothness_worst, compactness_worst, concavity_worst, concave points_worst, symmetry_worst, fractal_dimension_worst, _c32\n",
      "Expected: _c32 but found: \n",
      "CSV file: file:///home/arteweyl/coderhouse/python/turma-58865/datasets/Cancer_Data.csv\n"
     ]
    }
   ],
   "source": [
    "df_spark.show()"
   ]
  },
  {
   "cell_type": "code",
   "execution_count": 16,
   "metadata": {},
   "outputs": [
    {
     "name": "stderr",
     "output_type": "stream",
     "text": [
      "[Stage 3:>                                                          (0 + 1) / 1]\r"
     ]
    },
    {
     "name": "stdout",
     "output_type": "stream",
     "text": [
      "+------+---------+-----------+------------+--------------+---------+---------------+----------------+--------------+-------------------+-------------+----------------------+---------+----------+------------+-------+-------------+--------------+------------+-----------------+-----------+--------------------+------------+-------------+---------------+----------+----------------+-----------------+---------------+--------------------+--------------+-----------------------+-----------+\n",
      "|    id|diagnosis|radius_mean|texture_mean|perimeter_mean|area_mean|smoothness_mean|compactness_mean|concavity_mean|concave points_mean|symmetry_mean|fractal_dimension_mean|radius_se|texture_se|perimeter_se|area_se|smoothness_se|compactness_se|concavity_se|concave points_se|symmetry_se|fractal_dimension_se|radius_worst|texture_worst|perimeter_worst|area_worst|smoothness_worst|compactness_worst|concavity_worst|concave points_worst|symmetry_worst|fractal_dimension_worst|Unnamed: 32|\n",
      "+------+---------+-----------+------------+--------------+---------+---------------+----------------+--------------+-------------------+-------------+----------------------+---------+----------+------------+-------+-------------+--------------+------------+-----------------+-----------+--------------------+------------+-------------+---------------+----------+----------------+-----------------+---------------+--------------------+--------------+-----------------------+-----------+\n",
      "|842302|        M|      17.99|       10.38|         122.8|   1001.0|         0.1184|          0.2776|        0.3001|             0.1471|       0.2419|               0.07871|    1.095|    0.9053|       8.589|  153.4|     0.006399|       0.04904|     0.05373|          0.01587|    0.03003|            0.006193|       25.38|        17.33|          184.6|    2019.0|          0.1622|           0.6656|         0.7119|              0.2654|        0.4601|                 0.1189|        NaN|\n",
      "|842517|        M|      20.57|       17.77|         132.9|   1326.0|        0.08474|         0.07864|        0.0869|            0.07017|       0.1812|               0.05667|   0.5435|    0.7339|       3.398|  74.08|     0.005225|       0.01308|      0.0186|           0.0134|    0.01389|            0.003532|       24.99|        23.41|          158.8|    1956.0|          0.1238|           0.1866|         0.2416|               0.186|         0.275|                0.08902|        NaN|\n",
      "+------+---------+-----------+------------+--------------+---------+---------------+----------------+--------------+-------------------+-------------+----------------------+---------+----------+------------+-------+-------------+--------------+------------+-----------------+-----------+--------------------+------------+-------------+---------------+----------+----------------+-----------------+---------------+--------------------+--------------+-----------------------+-----------+\n",
      "only showing top 2 rows\n",
      "\n"
     ]
    },
    {
     "name": "stderr",
     "output_type": "stream",
     "text": [
      "                                                                                \r"
     ]
    }
   ],
   "source": [
    "df_spark_2  = spark.createDataFrame(df_pd_2)\n",
    "df_spark_2.show(2)"
   ]
  },
  {
   "cell_type": "code",
   "execution_count": 17,
   "metadata": {},
   "outputs": [
    {
     "name": "stdout",
     "output_type": "stream",
     "text": [
      "+---------+-----------+--------------+---------+\n",
      "|diagnosis|radius_mean|perimeter_mean|area_mean|\n",
      "+---------+-----------+--------------+---------+\n",
      "|        M|      17.99|         122.8|   1001.0|\n",
      "|        M|      20.57|         132.9|   1326.0|\n",
      "+---------+-----------+--------------+---------+\n",
      "only showing top 2 rows\n",
      "\n"
     ]
    }
   ],
   "source": [
    "df_spark_3 = df_spark_2.select('diagnosis','radius_mean','perimeter_mean','area_mean')\n",
    "df_spark_3.show(2)"
   ]
  },
  {
   "cell_type": "code",
   "execution_count": 19,
   "metadata": {},
   "outputs": [
    {
     "name": "stdout",
     "output_type": "stream",
     "text": [
      "+---------+-----------+-------------+---------+\n",
      "|diagnosis|radius_mean|perimeter_avg|area_mean|\n",
      "+---------+-----------+-------------+---------+\n",
      "|        M|      17.99|        122.8|   1001.0|\n",
      "|        M|      20.57|        132.9|   1326.0|\n",
      "+---------+-----------+-------------+---------+\n",
      "only showing top 2 rows\n",
      "\n"
     ]
    }
   ],
   "source": [
    "df_spark_3_mod = df_spark_3.withColumnRenamed('perimeter_mean','perimeter_avg')\n",
    "df_spark_3_mod.show(2)"
   ]
  },
  {
   "cell_type": "code",
   "execution_count": 20,
   "metadata": {},
   "outputs": [],
   "source": [
    "import pyspark.sql.functions as F\n",
    "from pyspark.sql.functions import col,lit,when"
   ]
  },
  {
   "cell_type": "code",
   "execution_count": 23,
   "metadata": {},
   "outputs": [
    {
     "name": "stdout",
     "output_type": "stream",
     "text": [
      "+---------+-----------+-------------+---------+----------+\n",
      "|diagnosis|radius_mean|perimeter_avg|area_mean|      base|\n",
      "+---------+-----------+-------------+---------+----------+\n",
      "|        M|      17.99|        122.8|   1001.0|CancerData|\n",
      "|        M|      20.57|        132.9|   1326.0|CancerData|\n",
      "+---------+-----------+-------------+---------+----------+\n",
      "only showing top 2 rows\n",
      "\n"
     ]
    }
   ],
   "source": [
    "df_spark3_mod_2 = df_spark_3_mod.withColumn('base',lit('CancerData'))\n",
    "df_spark3_mod_2.show(2)"
   ]
  },
  {
   "cell_type": "code",
   "execution_count": 25,
   "metadata": {},
   "outputs": [
    {
     "name": "stdout",
     "output_type": "stream",
     "text": [
      "+---------+-----------+-------------+---------+----------+-------+\n",
      "|diagnosis|radius_mean|perimeter_avg|area_mean|      base|   area|\n",
      "+---------+-----------+-------------+---------+----------+-------+\n",
      "|        M|      17.99|        122.8|   1001.0|CancerData|1016.72|\n",
      "|        M|      20.57|        132.9|   1326.0|CancerData|1329.25|\n",
      "|        M|      19.69|        130.0|   1203.0|CancerData|1217.95|\n",
      "|        M|      11.42|        77.58|    386.1|CancerData|  409.7|\n",
      "|        M|      20.29|        135.1|   1297.0|CancerData|1293.31|\n",
      "|        M|      12.45|        82.57|    477.1|CancerData| 486.94|\n",
      "|        M|      18.25|        119.6|   1040.0|CancerData|1046.32|\n",
      "|        M|      13.71|         90.2|    577.9|CancerData| 590.49|\n",
      "|        M|       13.0|         87.5|    519.8|CancerData| 530.91|\n",
      "|        M|      12.46|        83.97|    475.9|CancerData| 487.72|\n",
      "+---------+-----------+-------------+---------+----------+-------+\n",
      "only showing top 10 rows\n",
      "\n"
     ]
    }
   ],
   "source": [
    "df_spark3_mod_3 = df_spark3_mod_2.withColumn('area',F.round(3.1415*col('radius_mean')**2,2))\n",
    "df_spark3_mod_3.show(10)"
   ]
  },
  {
   "cell_type": "code",
   "execution_count": 26,
   "metadata": {},
   "outputs": [
    {
     "name": "stdout",
     "output_type": "stream",
     "text": [
      "+---------+-----------+-------------+---------+----------+-------+--------------+\n",
      "|diagnosis|radius_mean|perimeter_avg|area_mean|      base|   area|diagnosis_full|\n",
      "+---------+-----------+-------------+---------+----------+-------+--------------+\n",
      "|        M|      17.99|        122.8|   1001.0|CancerData|1016.72|     Malignant|\n",
      "|        M|      20.57|        132.9|   1326.0|CancerData|1329.25|     Malignant|\n",
      "|        M|      19.69|        130.0|   1203.0|CancerData|1217.95|     Malignant|\n",
      "|        M|      11.42|        77.58|    386.1|CancerData|  409.7|     Malignant|\n",
      "|        M|      20.29|        135.1|   1297.0|CancerData|1293.31|     Malignant|\n",
      "|        M|      12.45|        82.57|    477.1|CancerData| 486.94|     Malignant|\n",
      "|        M|      18.25|        119.6|   1040.0|CancerData|1046.32|     Malignant|\n",
      "|        M|      13.71|         90.2|    577.9|CancerData| 590.49|     Malignant|\n",
      "|        M|       13.0|         87.5|    519.8|CancerData| 530.91|     Malignant|\n",
      "|        M|      12.46|        83.97|    475.9|CancerData| 487.72|     Malignant|\n",
      "+---------+-----------+-------------+---------+----------+-------+--------------+\n",
      "only showing top 10 rows\n",
      "\n"
     ]
    }
   ],
   "source": [
    "df_spark3_mod_4 = df_spark3_mod_3.withColumn('diagnosis_full',\n",
    "                                             when(col('diagnosis')=='M', 'Malignant')\n",
    "                                             .when(col('diagnosis')=='B', 'Benign')\n",
    "                                             .otherwise('Others'))\n",
    "\n",
    "df_spark3_mod_4.show(10)"
   ]
  },
  {
   "cell_type": "code",
   "execution_count": 27,
   "metadata": {},
   "outputs": [
    {
     "name": "stdout",
     "output_type": "stream",
     "text": [
      "+---------+-----------+-------------+---------+----------+------+--------------+\n",
      "|diagnosis|radius_mean|perimeter_avg|area_mean|      base|  area|diagnosis_full|\n",
      "+---------+-----------+-------------+---------+----------+------+--------------+\n",
      "|        B|      13.54|        87.46|    566.3|CancerData|575.94|        Benign|\n",
      "|        B|      13.08|        85.63|    520.0|CancerData|537.47|        Benign|\n",
      "|        B|      9.504|        60.34|    273.9|CancerData|283.76|        Benign|\n",
      "|        B|      13.03|        82.61|    523.8|CancerData|533.37|        Benign|\n",
      "|        B|      8.196|        51.71|    201.9|CancerData|211.03|        Benign|\n",
      "|        B|      12.05|        78.04|    449.3|CancerData|456.15|        Benign|\n",
      "|        B|      13.49|        86.91|    561.0|CancerData|571.69|        Benign|\n",
      "|        B|      11.76|        74.72|    427.9|CancerData|434.46|        Benign|\n",
      "|        B|      13.64|        87.21|    571.8|CancerData|584.47|        Benign|\n",
      "|        B|      11.94|        75.71|    437.6|CancerData|447.86|        Benign|\n",
      "+---------+-----------+-------------+---------+----------+------+--------------+\n",
      "only showing top 10 rows\n",
      "\n"
     ]
    }
   ],
   "source": [
    "df_spark3_mod_4.filter(col('diagnosis_full')=='Benign').show(10)"
   ]
  },
  {
   "cell_type": "code",
   "execution_count": 28,
   "metadata": {},
   "outputs": [
    {
     "name": "stdout",
     "output_type": "stream",
     "text": [
      "+---------+-----------+-------------+---------+----+----+--------------+\n",
      "|diagnosis|radius_mean|perimeter_avg|area_mean|base|area|diagnosis_full|\n",
      "+---------+-----------+-------------+---------+----+----+--------------+\n",
      "+---------+-----------+-------------+---------+----+----+--------------+\n",
      "\n"
     ]
    }
   ],
   "source": [
    "df_spark3_mod_4.filter(col('diagnosis_full')=='others').show(10)"
   ]
  },
  {
   "cell_type": "code",
   "execution_count": 34,
   "metadata": {},
   "outputs": [
    {
     "name": "stdout",
     "output_type": "stream",
     "text": [
      "+---------+-----------+-------------+---------+----------+------+--------------+\n",
      "|diagnosis|radius_mean|perimeter_avg|area_mean|      base|  area|diagnosis_full|\n",
      "+---------+-----------+-------------+---------+----------+------+--------------+\n",
      "|        B|      6.981|        43.79|    143.5|CancerData| 153.1|        Benign|\n",
      "|        B|      7.729|        47.98|    178.8|CancerData|187.67|        Benign|\n",
      "|        B|      7.691|        48.34|    170.4|CancerData|185.82|        Benign|\n",
      "|        B|       7.76|        47.92|    181.0|CancerData|189.17|        Benign|\n",
      "+---------+-----------+-------------+---------+----------+------+--------------+\n",
      "\n"
     ]
    }
   ],
   "source": [
    "df_spark3_mod_4.filter((col('diagnosis_full')=='Benign')&\n",
    "                       (col('area')<=190)).show(10)"
   ]
  },
  {
   "cell_type": "code",
   "execution_count": 36,
   "metadata": {},
   "outputs": [],
   "source": [
    "df_benign_area=df_spark3_mod_4.filter((col('diagnosis_full')=='Benign')&\n",
    "                       (col('area')<=190))"
   ]
  },
  {
   "cell_type": "code",
   "execution_count": 35,
   "metadata": {},
   "outputs": [],
   "source": [
    "df_benign=df_spark3_mod_4.filter((col('diagnosis_full')=='Benign'))"
   ]
  },
  {
   "cell_type": "code",
   "execution_count": 40,
   "metadata": {},
   "outputs": [
    {
     "name": "stdout",
     "output_type": "stream",
     "text": [
      "Base Full:  569\n",
      "Base Benign:  357\n",
      "Base Benign:  4\n"
     ]
    }
   ],
   "source": [
    "print('Base Full: ',df_spark3_mod_4.count())\n",
    "print('Base Benign: ',df_benign.count())\n",
    "print('Base Benign: ',df_benign_area.count())"
   ]
  },
  {
   "cell_type": "markdown",
   "metadata": {},
   "source": [
    "Exércicio 1:\n",
    "\n",
    "No VSCode ou Google Colab resolva os exercícios usando PySpark:\n",
    "\n",
    "1 - Abra o arquivo realtor-data.csv\n",
    "\n",
    "2 - Conte o número de registros.\n",
    " \n",
    "3 - Conte o número de registros no estado de Puerto Rico com preço maior que $100.000."
   ]
  },
  {
   "cell_type": "code",
   "execution_count": 42,
   "metadata": {},
   "outputs": [
    {
     "name": "stdout",
     "output_type": "stream",
     "text": [
      "+--------+---+----+--------+--------+-----------+--------+----------+--------------+--------+\n",
      "|  status|bed|bath|acre_lot|    city|      state|zip_code|house_size|prev_sold_date|   price|\n",
      "+--------+---+----+--------+--------+-----------+--------+----------+--------------+--------+\n",
      "|for_sale|3.0| 2.0|    0.12|Adjuntas|Puerto Rico|   601.0|     920.0|          NULL|105000.0|\n",
      "|for_sale|4.0| 2.0|    0.08|Adjuntas|Puerto Rico|   601.0|    1527.0|          NULL| 80000.0|\n",
      "+--------+---+----+--------+--------+-----------+--------+----------+--------------+--------+\n",
      "only showing top 2 rows\n",
      "\n"
     ]
    }
   ],
   "source": [
    "df_realtor = spark.read.format('csv').option('header','true').load('../datasets/realtor-data.csv')\n",
    "df_realtor.show(2)"
   ]
  },
  {
   "cell_type": "code",
   "execution_count": 43,
   "metadata": {},
   "outputs": [
    {
     "data": {
      "text/plain": [
       "100000"
      ]
     },
     "execution_count": 43,
     "metadata": {},
     "output_type": "execute_result"
    }
   ],
   "source": [
    "df_realtor.count()"
   ]
  },
  {
   "cell_type": "code",
   "execution_count": 44,
   "metadata": {},
   "outputs": [
    {
     "data": {
      "text/plain": [
       "17127"
      ]
     },
     "execution_count": 44,
     "metadata": {},
     "output_type": "execute_result"
    }
   ],
   "source": [
    "df_realtor.filter((col('state')=='Puerto Rico')&\n",
    "                  (col('price')>100000)\n",
    ").count()"
   ]
  },
  {
   "cell_type": "markdown",
   "metadata": {},
   "source": [
    "4 - Crie uma coluna chamada tamanho com os seguintes valores:\n",
    " - “pequena” quando house_size é menor que 1000.\n",
    " - “media” quando house_size é menor que 5000 e maior que 1000.\n",
    " - “grande” quando house_size é maior que 5000.\n",
    " - “sem info” quando house_size é null"
   ]
  },
  {
   "cell_type": "code",
   "execution_count": 46,
   "metadata": {},
   "outputs": [],
   "source": [
    "df_realtor_size = df_realtor.withColumn('size',\n",
    "                                        when(col('house_size')<1000, 'small')\n",
    "                                        .when(col('house_size')<5000,'Medium')\n",
    "                                        .when(col('house_size')>=5000, 'Large')\n",
    "                                        .otherwise('no info')\n",
    "                                        )"
   ]
  },
  {
   "cell_type": "code",
   "execution_count": 47,
   "metadata": {},
   "outputs": [
    {
     "name": "stdout",
     "output_type": "stream",
     "text": [
      "+--------+---+----+--------+-------------+-----------+--------+----------+--------------+--------+-------+\n",
      "|  status|bed|bath|acre_lot|         city|      state|zip_code|house_size|prev_sold_date|   price|   size|\n",
      "+--------+---+----+--------+-------------+-----------+--------+----------+--------------+--------+-------+\n",
      "|for_sale|3.0| 2.0|    0.12|     Adjuntas|Puerto Rico|   601.0|     920.0|          NULL|105000.0|  small|\n",
      "|for_sale|4.0| 2.0|    0.08|     Adjuntas|Puerto Rico|   601.0|    1527.0|          NULL| 80000.0| Medium|\n",
      "|for_sale|2.0| 1.0|    0.15|   Juana Diaz|Puerto Rico|   795.0|     748.0|          NULL| 67000.0|  small|\n",
      "|for_sale|4.0| 2.0|     0.1|        Ponce|Puerto Rico|   731.0|    1800.0|          NULL|145000.0| Medium|\n",
      "|for_sale|6.0| 2.0|    0.05|     Mayaguez|Puerto Rico|   680.0|      NULL|          NULL| 65000.0|no info|\n",
      "|for_sale|4.0| 3.0|    0.46|San Sebastian|Puerto Rico|   612.0|    2520.0|          NULL|179000.0| Medium|\n",
      "|for_sale|3.0| 1.0|     0.2|       Ciales|Puerto Rico|   639.0|    2040.0|          NULL| 50000.0| Medium|\n",
      "|for_sale|3.0| 2.0|    0.08|        Ponce|Puerto Rico|   731.0|    1050.0|          NULL| 71600.0| Medium|\n",
      "|for_sale|2.0| 1.0|    0.09|        Ponce|Puerto Rico|   730.0|    1092.0|          NULL|100000.0| Medium|\n",
      "|for_sale|5.0| 3.0|    7.46|   Las Marias|Puerto Rico|   670.0|    5403.0|          NULL|300000.0|  Large|\n",
      "|for_sale|3.0| 2.0|   13.39|      Isabela|Puerto Rico|   662.0|    1106.0|          NULL| 89000.0| Medium|\n",
      "|for_sale|3.0| 2.0|    0.08|   Juana Diaz|Puerto Rico|   795.0|    1045.0|          NULL|150000.0| Medium|\n",
      "|for_sale|3.0| 2.0|     0.1|        Lares|Puerto Rico|   669.0|    4161.0|          NULL|155000.0| Medium|\n",
      "|for_sale|5.0| 2.0|    0.12|       Utuado|Puerto Rico|   641.0|    1620.0|          NULL| 79000.0| Medium|\n",
      "|for_sale|5.0| 5.0|    0.74|        Ponce|Puerto Rico|   731.0|    2677.0|          NULL|649000.0| Medium|\n",
      "|for_sale|3.0| 2.0|    0.08|        Yauco|Puerto Rico|   698.0|    1100.0|          NULL|120000.0| Medium|\n",
      "|for_sale|4.0| 4.0|    0.22|     Mayaguez|Puerto Rico|   680.0|    3450.0|          NULL|235000.0| Medium|\n",
      "|for_sale|3.0| 2.0|    0.08|        Ponce|Puerto Rico|   728.0|    1500.0|          NULL|105000.0| Medium|\n",
      "|for_sale|3.0| 2.0|    3.88|San Sebastian|Puerto Rico|   685.0|    4000.0|          NULL|575000.0| Medium|\n",
      "|for_sale|6.0| 3.0|    0.25|       Anasco|Puerto Rico|   610.0|    1230.0|          NULL|140000.0| Medium|\n",
      "+--------+---+----+--------+-------------+-----------+--------+----------+--------------+--------+-------+\n",
      "only showing top 20 rows\n",
      "\n"
     ]
    }
   ],
   "source": [
    "df_realtor_size.show(20)"
   ]
  },
  {
   "cell_type": "code",
   "execution_count": 49,
   "metadata": {},
   "outputs": [],
   "source": [
    "df_realtor.createOrReplaceTempView('realtor')"
   ]
  },
  {
   "cell_type": "code",
   "execution_count": 51,
   "metadata": {},
   "outputs": [
    {
     "name": "stdout",
     "output_type": "stream",
     "text": [
      "+--------+---+----+--------+----------+-----------+--------+----------+--------------+--------+\n",
      "|  status|bed|bath|acre_lot|      city|      state|zip_code|house_size|prev_sold_date|   price|\n",
      "+--------+---+----+--------+----------+-----------+--------+----------+--------------+--------+\n",
      "|for_sale|3.0| 2.0|    0.12|  Adjuntas|Puerto Rico|   601.0|     920.0|          NULL|105000.0|\n",
      "|for_sale|4.0| 2.0|    0.08|  Adjuntas|Puerto Rico|   601.0|    1527.0|          NULL| 80000.0|\n",
      "|for_sale|2.0| 1.0|    0.15|Juana Diaz|Puerto Rico|   795.0|     748.0|          NULL| 67000.0|\n",
      "|for_sale|4.0| 2.0|     0.1|     Ponce|Puerto Rico|   731.0|    1800.0|          NULL|145000.0|\n",
      "|for_sale|6.0| 2.0|    0.05|  Mayaguez|Puerto Rico|   680.0|      NULL|          NULL| 65000.0|\n",
      "|for_sale|3.0| 1.0|     0.2|    Ciales|Puerto Rico|   639.0|    2040.0|          NULL| 50000.0|\n",
      "|for_sale|3.0| 2.0|    0.08|     Ponce|Puerto Rico|   731.0|    1050.0|          NULL| 71600.0|\n",
      "|for_sale|2.0| 1.0|    0.09|     Ponce|Puerto Rico|   730.0|    1092.0|          NULL|100000.0|\n",
      "|for_sale|3.0| 2.0|   13.39|   Isabela|Puerto Rico|   662.0|    1106.0|          NULL| 89000.0|\n",
      "|for_sale|3.0| 2.0|    0.08|Juana Diaz|Puerto Rico|   795.0|    1045.0|          NULL|150000.0|\n",
      "|for_sale|5.0| 2.0|    0.12|    Utuado|Puerto Rico|   641.0|    1620.0|          NULL| 79000.0|\n",
      "|for_sale|3.0| 2.0|    0.08|     Yauco|Puerto Rico|   698.0|    1100.0|          NULL|120000.0|\n",
      "|for_sale|3.0| 2.0|    0.08|     Ponce|Puerto Rico|   728.0|    1500.0|          NULL|105000.0|\n",
      "|for_sale|6.0| 3.0|    0.25|    Anasco|Puerto Rico|   610.0|    1230.0|          NULL|140000.0|\n",
      "|for_sale|2.0| 1.0|    0.23|     Yauco|Puerto Rico|   698.0|     621.0|          NULL| 50000.0|\n",
      "|for_sale|3.0| 2.0|    NULL|     Ponce|Puerto Rico|   716.0|    1148.0|          NULL|115000.0|\n",
      "|for_sale|3.0| 2.0|    0.05|     Yauco|Puerto Rico|   698.0|    1118.0|          NULL|122500.0|\n",
      "|for_sale|4.0| 2.0|    0.11|Guayanilla|Puerto Rico|   656.0|    1300.0|          NULL| 93000.0|\n",
      "|for_sale|4.0| 2.0|    0.04|    Manati|Puerto Rico|   676.0|    1080.0|          NULL| 75000.0|\n",
      "|for_sale|3.0| 1.0|    0.23|     Yauco|Puerto Rico|   698.0|     936.0|          NULL| 70500.0|\n",
      "+--------+---+----+--------+----------+-----------+--------+----------+--------------+--------+\n",
      "only showing top 20 rows\n",
      "\n"
     ]
    }
   ],
   "source": [
    "spark.sql('SELECT * FROM realtor WHERE price < 155000').show()"
   ]
  }
 ],
 "metadata": {
  "kernelspec": {
   "display_name": "Python 3",
   "language": "python",
   "name": "python3"
  },
  "language_info": {
   "codemirror_mode": {
    "name": "ipython",
    "version": 3
   },
   "file_extension": ".py",
   "mimetype": "text/x-python",
   "name": "python",
   "nbconvert_exporter": "python",
   "pygments_lexer": "ipython3",
   "version": "3.10.12"
  }
 },
 "nbformat": 4,
 "nbformat_minor": 2
}
