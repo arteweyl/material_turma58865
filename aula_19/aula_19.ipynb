{
 "cells": [
  {
   "cell_type": "code",
   "execution_count": 2,
   "metadata": {},
   "outputs": [],
   "source": [
    "from pyspark.sql import SparkSession\n",
    "import pyspark as ps\n",
    "import pyspark.sql.functions as F\n",
    "from pyspark.sql.functions import col,lit,when\n",
    "import pandas as pd"
   ]
  },
  {
   "cell_type": "code",
   "execution_count": 3,
   "metadata": {},
   "outputs": [
    {
     "name": "stderr",
     "output_type": "stream",
     "text": [
      "your 131072x1 screen size is bogus. expect trouble\n",
      "24/06/20 19:54:15 WARN Utils: Your hostname, Artemisia-PC resolves to a loopback address: 127.0.1.1; using 10.255.255.254 instead (on interface lo)\n",
      "24/06/20 19:54:15 WARN Utils: Set SPARK_LOCAL_IP if you need to bind to another address\n",
      "Setting default log level to \"WARN\".\n",
      "To adjust logging level use sc.setLogLevel(newLevel). For SparkR, use setLogLevel(newLevel).\n",
      "24/06/20 19:54:17 WARN NativeCodeLoader: Unable to load native-hadoop library for your platform... using builtin-java classes where applicable\n"
     ]
    }
   ],
   "source": [
    "spark = (SparkSession\n",
    "         .builder\n",
    "         .appName('python Spark SQL')\n",
    "         .config('spark.some.config.option','some-value')\n",
    "         .getOrCreate())\n"
   ]
  },
  {
   "cell_type": "code",
   "execution_count": 4,
   "metadata": {},
   "outputs": [
    {
     "name": "stderr",
     "output_type": "stream",
     "text": [
      "                                                                                \r"
     ]
    }
   ],
   "source": [
    "df_spark = spark.read.format('csv').option('header','true').load('../datasets/Cancer_Data.csv')"
   ]
  },
  {
   "cell_type": "code",
   "execution_count": 5,
   "metadata": {},
   "outputs": [],
   "source": [
    "parquet_path = '/home/arteweyl/coderhouse/python/turma-58865/datasets/parquets'"
   ]
  },
  {
   "cell_type": "code",
   "execution_count": 6,
   "metadata": {},
   "outputs": [
    {
     "name": "stderr",
     "output_type": "stream",
     "text": [
      "24/06/20 19:59:01 WARN SparkStringUtils: Truncated the string representation of a plan since it was too large. This behavior can be adjusted by setting 'spark.sql.debug.maxToStringFields'.\n",
      "24/06/20 19:59:02 WARN CSVHeaderChecker: CSV header does not conform to the schema.\n",
      " Header: id, diagnosis, radius_mean, texture_mean, perimeter_mean, area_mean, smoothness_mean, compactness_mean, concavity_mean, concave points_mean, symmetry_mean, fractal_dimension_mean, radius_se, texture_se, perimeter_se, area_se, smoothness_se, compactness_se, concavity_se, concave points_se, symmetry_se, fractal_dimension_se, radius_worst, texture_worst, perimeter_worst, area_worst, smoothness_worst, compactness_worst, concavity_worst, concave points_worst, symmetry_worst, fractal_dimension_worst, \n",
      " Schema: id, diagnosis, radius_mean, texture_mean, perimeter_mean, area_mean, smoothness_mean, compactness_mean, concavity_mean, concave points_mean, symmetry_mean, fractal_dimension_mean, radius_se, texture_se, perimeter_se, area_se, smoothness_se, compactness_se, concavity_se, concave points_se, symmetry_se, fractal_dimension_se, radius_worst, texture_worst, perimeter_worst, area_worst, smoothness_worst, compactness_worst, concavity_worst, concave points_worst, symmetry_worst, fractal_dimension_worst, _c32\n",
      "Expected: _c32 but found: \n",
      "CSV file: file:///home/arteweyl/coderhouse/python/turma-58865/datasets/Cancer_Data.csv\n",
      "                                                                                \r"
     ]
    }
   ],
   "source": [
    "df_spark.write.parquet(f'{parquet_path}/Cancer_data.parquet',mode='overwrite')"
   ]
  },
  {
   "cell_type": "code",
   "execution_count": 7,
   "metadata": {},
   "outputs": [
    {
     "name": "stdout",
     "output_type": "stream",
     "text": [
      "+--------+---------+-----------+------------+--------------+---------+---------------+----------------+--------------+-------------------+-------------+----------------------+---------+----------+------------+-------+-------------+--------------+------------+-----------------+-----------+--------------------+------------+-------------+---------------+----------+----------------+-----------------+---------------+--------------------+--------------+-----------------------+----+\n",
      "|      id|diagnosis|radius_mean|texture_mean|perimeter_mean|area_mean|smoothness_mean|compactness_mean|concavity_mean|concave points_mean|symmetry_mean|fractal_dimension_mean|radius_se|texture_se|perimeter_se|area_se|smoothness_se|compactness_se|concavity_se|concave points_se|symmetry_se|fractal_dimension_se|radius_worst|texture_worst|perimeter_worst|area_worst|smoothness_worst|compactness_worst|concavity_worst|concave points_worst|symmetry_worst|fractal_dimension_worst|_c32|\n",
      "+--------+---------+-----------+------------+--------------+---------+---------------+----------------+--------------+-------------------+-------------+----------------------+---------+----------+------------+-------+-------------+--------------+------------+-----------------+-----------+--------------------+------------+-------------+---------------+----------+----------------+-----------------+---------------+--------------------+--------------+-----------------------+----+\n",
      "|  842302|        M|      17.99|       10.38|         122.8|     1001|         0.1184|          0.2776|        0.3001|             0.1471|       0.2419|               0.07871|    1.095|    0.9053|       8.589|  153.4|     0.006399|       0.04904|     0.05373|          0.01587|    0.03003|            0.006193|       25.38|        17.33|          184.6|      2019|          0.1622|           0.6656|         0.7119|              0.2654|        0.4601|                 0.1189|NULL|\n",
      "|  842517|        M|      20.57|       17.77|         132.9|     1326|        0.08474|         0.07864|        0.0869|            0.07017|       0.1812|               0.05667|   0.5435|    0.7339|       3.398|  74.08|     0.005225|       0.01308|      0.0186|           0.0134|    0.01389|            0.003532|       24.99|        23.41|          158.8|      1956|          0.1238|           0.1866|         0.2416|               0.186|         0.275|                0.08902|NULL|\n",
      "|84300903|        M|      19.69|       21.25|           130|     1203|         0.1096|          0.1599|        0.1974|             0.1279|       0.2069|               0.05999|   0.7456|    0.7869|       4.585|  94.03|      0.00615|       0.04006|     0.03832|          0.02058|     0.0225|            0.004571|       23.57|        25.53|          152.5|      1709|          0.1444|           0.4245|         0.4504|               0.243|        0.3613|                0.08758|NULL|\n",
      "|84348301|        M|      11.42|       20.38|         77.58|    386.1|         0.1425|          0.2839|        0.2414|             0.1052|       0.2597|               0.09744|   0.4956|     1.156|       3.445|  27.23|      0.00911|       0.07458|     0.05661|          0.01867|    0.05963|            0.009208|       14.91|         26.5|          98.87|     567.7|          0.2098|           0.8663|         0.6869|              0.2575|        0.6638|                  0.173|NULL|\n",
      "|84358402|        M|      20.29|       14.34|         135.1|     1297|         0.1003|          0.1328|         0.198|             0.1043|       0.1809|               0.05883|   0.7572|    0.7813|       5.438|  94.44|      0.01149|       0.02461|     0.05688|          0.01885|    0.01756|            0.005115|       22.54|        16.67|          152.2|      1575|          0.1374|            0.205|            0.4|              0.1625|        0.2364|                0.07678|NULL|\n",
      "|  843786|        M|      12.45|        15.7|         82.57|    477.1|         0.1278|            0.17|        0.1578|            0.08089|       0.2087|               0.07613|   0.3345|    0.8902|       2.217|  27.19|      0.00751|       0.03345|     0.03672|          0.01137|    0.02165|            0.005082|       15.47|        23.75|          103.4|     741.6|          0.1791|           0.5249|         0.5355|              0.1741|        0.3985|                 0.1244|NULL|\n",
      "|  844359|        M|      18.25|       19.98|         119.6|     1040|        0.09463|           0.109|        0.1127|              0.074|       0.1794|               0.05742|   0.4467|    0.7732|        3.18|  53.91|     0.004314|       0.01382|     0.02254|          0.01039|    0.01369|            0.002179|       22.88|        27.66|          153.2|      1606|          0.1442|           0.2576|         0.3784|              0.1932|        0.3063|                0.08368|NULL|\n",
      "|84458202|        M|      13.71|       20.83|          90.2|    577.9|         0.1189|          0.1645|       0.09366|            0.05985|       0.2196|               0.07451|   0.5835|     1.377|       3.856|  50.96|     0.008805|       0.03029|     0.02488|          0.01448|    0.01486|            0.005412|       17.06|        28.14|          110.6|       897|          0.1654|           0.3682|         0.2678|              0.1556|        0.3196|                 0.1151|NULL|\n",
      "|  844981|        M|         13|       21.82|          87.5|    519.8|         0.1273|          0.1932|        0.1859|            0.09353|        0.235|               0.07389|   0.3063|     1.002|       2.406|  24.32|     0.005731|       0.03502|     0.03553|          0.01226|    0.02143|            0.003749|       15.49|        30.73|          106.2|     739.3|          0.1703|           0.5401|          0.539|               0.206|        0.4378|                 0.1072|NULL|\n",
      "|84501001|        M|      12.46|       24.04|         83.97|    475.9|         0.1186|          0.2396|        0.2273|            0.08543|        0.203|               0.08243|   0.2976|     1.599|       2.039|  23.94|     0.007149|       0.07217|     0.07743|          0.01432|    0.01789|             0.01008|       15.09|        40.68|          97.65|     711.4|          0.1853|            1.058|          1.105|               0.221|        0.4366|                 0.2075|NULL|\n",
      "+--------+---------+-----------+------------+--------------+---------+---------------+----------------+--------------+-------------------+-------------+----------------------+---------+----------+------------+-------+-------------+--------------+------------+-----------------+-----------+--------------------+------------+-------------+---------------+----------+----------------+-----------------+---------------+--------------------+--------------+-----------------------+----+\n",
      "only showing top 10 rows\n",
      "\n"
     ]
    }
   ],
   "source": [
    "df = spark.read.parquet(f'{parquet_path}/Cancer_data.parquet')\n",
    "df.show(10)"
   ]
  },
  {
   "cell_type": "code",
   "execution_count": 8,
   "metadata": {},
   "outputs": [
    {
     "name": "stdout",
     "output_type": "stream",
     "text": [
      "+---------+-----+\n",
      "|diagnosis|count|\n",
      "+---------+-----+\n",
      "|        B|  357|\n",
      "|        M|  212|\n",
      "+---------+-----+\n",
      "\n"
     ]
    }
   ],
   "source": [
    "df.groupBy('diagnosis').count().show()"
   ]
  },
  {
   "cell_type": "code",
   "execution_count": 11,
   "metadata": {},
   "outputs": [
    {
     "name": "stdout",
     "output_type": "stream",
     "text": [
      "+---------+---+-----------------+-----+-----+\n",
      "|diagnosis|  n|              avg|  min|  max|\n",
      "+---------+---+-----------------+-----+-----+\n",
      "|        B|357|12.14652380952381|10.03|9.904|\n",
      "|        M|212|17.46283018867925|10.95|28.11|\n",
      "+---------+---+-----------------+-----+-----+\n",
      "\n"
     ]
    }
   ],
   "source": [
    "df_agg = (df\n",
    "          .groupby('diagnosis')\n",
    "          .agg(F.count('radius_mean').alias('n'),\n",
    "               F.mean('radius_mean').alias('avg'),\n",
    "               F.min('radius_mean').alias('min'),\n",
    "               F.max('radius_mean').alias('max')\n",
    "               ))\n",
    "df_agg.show(10)"
   ]
  },
  {
   "cell_type": "code",
   "execution_count": 13,
   "metadata": {},
   "outputs": [
    {
     "name": "stdout",
     "output_type": "stream",
     "text": [
      "+------+---+---+\n",
      "|Bigger|  B|  M|\n",
      "+------+---+---+\n",
      "|  true|  6|135|\n",
      "| false|351| 77|\n",
      "+------+---+---+\n",
      "\n"
     ]
    }
   ],
   "source": [
    "df_pivot = (df\n",
    "            .withColumn('Bigger',col('radius_mean')>15)\n",
    "            .groupBy('Bigger')\n",
    "            .pivot('diagnosis')\n",
    "            .count()\n",
    ")\n",
    "df_pivot.show()"
   ]
  },
  {
   "cell_type": "code",
   "execution_count": 14,
   "metadata": {},
   "outputs": [
    {
     "name": "stdout",
     "output_type": "stream",
     "text": [
      "+------+---------+-----------+------------+--------------+---------+---------------+----------------+--------------+-------------------+-------------+----------------------+---------+----------+------------+-------+-------------+--------------+------------+-----------------+-----------+--------------------+------------+-------------+---------------+----------+----------------+-----------------+---------------+--------------------+--------------+-----------------------+----+\n",
      "|    id|diagnosis|radius_mean|texture_mean|perimeter_mean|area_mean|smoothness_mean|compactness_mean|concavity_mean|concave points_mean|symmetry_mean|fractal_dimension_mean|radius_se|texture_se|perimeter_se|area_se|smoothness_se|compactness_se|concavity_se|concave points_se|symmetry_se|fractal_dimension_se|radius_worst|texture_worst|perimeter_worst|area_worst|smoothness_worst|compactness_worst|concavity_worst|concave points_worst|symmetry_worst|fractal_dimension_worst|_c32|\n",
      "+------+---------+-----------+------------+--------------+---------+---------------+----------------+--------------+-------------------+-------------+----------------------+---------+----------+------------+-------+-------------+--------------+------------+-----------------+-----------+--------------------+------------+-------------+---------------+----------+----------------+-----------------+---------------+--------------------+--------------+-----------------------+----+\n",
      "|907367|        B|      10.03|       21.28|         63.19|    307.3|        0.08117|         0.03912|       0.00247|           0.005159|        0.163|               0.06439|   0.1851|     1.341|       1.184|   11.6|     0.005724|      0.005697|    0.002074|         0.003527|    0.01445|            0.002411|       11.11|        28.94|          69.92|     376.3|          0.1126|          0.07094|        0.01235|             0.02579|        0.2349|                0.08061|NULL|\n",
      "|897880|        B|      10.05|       17.53|         64.41|    310.8|         0.1007|         0.07326|       0.02511|            0.01775|        0.189|               0.06331|   0.2619|     2.015|       1.778|  16.85|     0.007803|       0.01449|      0.0169|         0.008043|      0.021|            0.002778|       11.16|        26.84|          71.98|       384|          0.1402|           0.1402|         0.1055|             0.06499|        0.2894|                0.07664|NULL|\n",
      "|874158|        B|      10.08|       15.11|         63.76|    317.5|        0.09267|         0.04695|      0.001597|           0.002404|       0.1703|               0.06048|   0.4245|     1.268|        2.68|  26.43|      0.01439|         0.012|    0.001597|         0.002404|    0.02538|             0.00347|       11.87|        21.18|          75.39|       437|          0.1521|           0.1019|        0.00692|             0.01042|        0.2933|                0.07697|NULL|\n",
      "+------+---------+-----------+------------+--------------+---------+---------------+----------------+--------------+-------------------+-------------+----------------------+---------+----------+------------+-------+-------------+--------------+------------+-----------------+-----------+--------------------+------------+-------------+---------------+----------+----------------+-----------------+---------------+--------------------+--------------+-----------------------+----+\n",
      "only showing top 3 rows\n",
      "\n"
     ]
    }
   ],
   "source": [
    "df_sort = df.orderBy('radius_mean')\n",
    "df_sort.show(3)"
   ]
  },
  {
   "cell_type": "code",
   "execution_count": 15,
   "metadata": {},
   "outputs": [
    {
     "name": "stdout",
     "output_type": "stream",
     "text": [
      "+------+---------+-----------+------------+--------------+---------+---------------+----------------+--------------+-------------------+-------------+----------------------+---------+----------+------------+-------+-------------+--------------+------------+-----------------+-----------+--------------------+------------+-------------+---------------+----------+----------------+-----------------+---------------+--------------------+--------------+-----------------------+----+\n",
      "|    id|diagnosis|radius_mean|texture_mean|perimeter_mean|area_mean|smoothness_mean|compactness_mean|concavity_mean|concave points_mean|symmetry_mean|fractal_dimension_mean|radius_se|texture_se|perimeter_se|area_se|smoothness_se|compactness_se|concavity_se|concave points_se|symmetry_se|fractal_dimension_se|radius_worst|texture_worst|perimeter_worst|area_worst|smoothness_worst|compactness_worst|concavity_worst|concave points_worst|symmetry_worst|fractal_dimension_worst|_c32|\n",
      "+------+---------+-----------+------------+--------------+---------+---------------+----------------+--------------+-------------------+-------------+----------------------+---------+----------+------------+-------+-------------+--------------+------------+-----------------+-----------+--------------------+------------+-------------+---------------+----------+----------------+-----------------+---------------+--------------------+--------------+-----------------------+----+\n",
      "|872608|        B|      9.904|       18.06|          64.6|    302.4|        0.09699|          0.1294|        0.1307|            0.03716|       0.1669|               0.08116|   0.4311|     2.261|       3.132|  27.48|      0.01286|       0.08808|      0.1197|           0.0246|     0.0388|             0.01792|       11.26|        24.39|          73.07|     390.2|          0.1301|            0.295|         0.3486|              0.0991|        0.2614|                 0.1162|NULL|\n",
      "|862980|        B|      9.876|        19.4|         63.95|    298.3|         0.1005|         0.09697|       0.06154|            0.03029|       0.1945|               0.06322|   0.1803|     1.222|       1.528|  11.77|     0.009058|       0.02196|     0.03029|          0.01112|    0.01609|             0.00357|       10.76|        26.83|          72.22|     361.2|          0.1559|           0.2302|         0.2644|             0.09749|        0.2622|                 0.0849|NULL|\n",
      "|879804|        B|      9.876|       17.27|         62.92|    295.4|         0.1089|         0.07232|       0.01756|            0.01952|       0.1934|               0.06285|   0.2137|     1.342|       1.517|  12.33|     0.009719|       0.01249|    0.007975|         0.007527|     0.0221|            0.002472|       10.42|        23.22|          67.08|     331.6|          0.1415|           0.1247|        0.06213|             0.05588|        0.2989|                 0.0738|NULL|\n",
      "+------+---------+-----------+------------+--------------+---------+---------------+----------------+--------------+-------------------+-------------+----------------------+---------+----------+------------+-------+-------------+--------------+------------+-----------------+-----------+--------------------+------------+-------------+---------------+----------+----------------+-----------------+---------------+--------------------+--------------+-----------------------+----+\n",
      "only showing top 3 rows\n",
      "\n"
     ]
    }
   ],
   "source": [
    "df_sort = df.orderBy(F.desc('radius_mean'))\n",
    "df_sort.show(3)"
   ]
  },
  {
   "cell_type": "code",
   "execution_count": 25,
   "metadata": {},
   "outputs": [],
   "source": [
    "df1 = df.select('id','diagnosis','perimeter_mean').limit(1000)\n",
    "df2 = df.select('id','area_mean')"
   ]
  },
  {
   "cell_type": "code",
   "execution_count": 26,
   "metadata": {},
   "outputs": [
    {
     "name": "stdout",
     "output_type": "stream",
     "text": [
      "+--------+---------+--------------+---------+\n",
      "|      id|diagnosis|perimeter_mean|area_mean|\n",
      "+--------+---------+--------------+---------+\n",
      "|  842302|        M|         122.8|     1001|\n",
      "|  842517|        M|         132.9|     1326|\n",
      "|84300903|        M|           130|     1203|\n",
      "+--------+---------+--------------+---------+\n",
      "only showing top 3 rows\n",
      "\n"
     ]
    }
   ],
   "source": [
    "df_join = df1.join(df2,'id','left')\n",
    "df_join.show(3)"
   ]
  },
  {
   "cell_type": "code",
   "execution_count": 29,
   "metadata": {},
   "outputs": [
    {
     "name": "stdout",
     "output_type": "stream",
     "text": [
      "+------+---------+--------------+---------+\n",
      "|    id|diagnosis|perimeter_mean|area_mean|\n",
      "+------+---------+--------------+---------+\n",
      "|842302|        M|         122.8|     1001|\n",
      "|842517|        M|         132.9|     1326|\n",
      "+------+---------+--------------+---------+\n",
      "only showing top 2 rows\n",
      "\n"
     ]
    }
   ],
   "source": [
    "df_join_2 = df1.join(df2,'id','outer')\n",
    "df_join_2.show(2)"
   ]
  },
  {
   "cell_type": "code",
   "execution_count": 31,
   "metadata": {},
   "outputs": [
    {
     "name": "stdout",
     "output_type": "stream",
     "text": [
      "+------+---------+--------------+---------+\n",
      "|    id|diagnosis|perimeter_mean|area_mean|\n",
      "+------+---------+--------------+---------+\n",
      "|842302|        M|         122.8|     1001|\n",
      "|842517|        M|         132.9|     1326|\n",
      "+------+---------+--------------+---------+\n",
      "only showing top 2 rows\n",
      "\n"
     ]
    }
   ],
   "source": [
    "df_join_3 = df1.join(df2,'id','inner')\n",
    "df_join_3.show(2)"
   ]
  },
  {
   "cell_type": "code",
   "execution_count": 32,
   "metadata": {},
   "outputs": [
    {
     "name": "stdout",
     "output_type": "stream",
     "text": [
      "+------+---------+--------------+---------+\n",
      "|    id|diagnosis|perimeter_mean|area_mean|\n",
      "+------+---------+--------------+---------+\n",
      "|842302|        M|         122.8|     1001|\n",
      "|842517|        M|         132.9|     1326|\n",
      "+------+---------+--------------+---------+\n",
      "only showing top 2 rows\n",
      "\n"
     ]
    }
   ],
   "source": [
    "df_join_4 = df1.join(df2,'id','right')\n",
    "df_join_4.show(2)"
   ]
  },
  {
   "cell_type": "code",
   "execution_count": 40,
   "metadata": {},
   "outputs": [],
   "source": [
    "df\n",
    "for i in range(100):\n",
    "    df.count()"
   ]
  },
  {
   "cell_type": "code",
   "execution_count": 41,
   "metadata": {},
   "outputs": [],
   "source": [
    "df.cache()\n",
    "for i in range(100):\n",
    "    df.count()"
   ]
  },
  {
   "cell_type": "code",
   "execution_count": 42,
   "metadata": {},
   "outputs": [
    {
     "data": {
      "text/plain": [
       "DataFrame[id: string, diagnosis: string, radius_mean: string, texture_mean: string, perimeter_mean: string, area_mean: string, smoothness_mean: string, compactness_mean: string, concavity_mean: string, concave points_mean: string, symmetry_mean: string, fractal_dimension_mean: string, radius_se: string, texture_se: string, perimeter_se: string, area_se: string, smoothness_se: string, compactness_se: string, concavity_se: string, concave points_se: string, symmetry_se: string, fractal_dimension_se: string, radius_worst: string, texture_worst: string, perimeter_worst: string, area_worst: string, smoothness_worst: string, compactness_worst: string, concavity_worst: string, concave points_worst: string, symmetry_worst: string, fractal_dimension_worst: string, _c32: string]"
      ]
     },
     "execution_count": 42,
     "metadata": {},
     "output_type": "execute_result"
    }
   ],
   "source": [
    "df.unpersist()"
   ]
  },
  {
   "cell_type": "code",
   "execution_count": 45,
   "metadata": {},
   "outputs": [
    {
     "data": {
      "text/plain": [
       "10"
      ]
     },
     "execution_count": 45,
     "metadata": {},
     "output_type": "execute_result"
    }
   ],
   "source": [
    "df_part = df.repartition(10)\n",
    "df_part.rdd.getNumPartitions()"
   ]
  },
  {
   "cell_type": "markdown",
   "metadata": {},
   "source": [
    "1 - No VSCode ou Google Colab resolva os exercícios usando PySpark:\n",
    " - Abra o arquivo realtor-data.csv\n",
    " - Salve e leia novamente o arquivo no formato parquet\n",
    " - Gere um cache da tabela com 32 partições \n",
    " - Crie uma pivot table da contagem de state e status."
   ]
  },
  {
   "cell_type": "code",
   "execution_count": 46,
   "metadata": {},
   "outputs": [
    {
     "name": "stdout",
     "output_type": "stream",
     "text": [
      "+--------+---+----+--------+--------+-----------+--------+----------+--------------+--------+\n",
      "|  status|bed|bath|acre_lot|    city|      state|zip_code|house_size|prev_sold_date|   price|\n",
      "+--------+---+----+--------+--------+-----------+--------+----------+--------------+--------+\n",
      "|for_sale|3.0| 2.0|    0.12|Adjuntas|Puerto Rico|   601.0|     920.0|          NULL|105000.0|\n",
      "|for_sale|4.0| 2.0|    0.08|Adjuntas|Puerto Rico|   601.0|    1527.0|          NULL| 80000.0|\n",
      "+--------+---+----+--------+--------+-----------+--------+----------+--------------+--------+\n",
      "only showing top 2 rows\n",
      "\n"
     ]
    }
   ],
   "source": [
    "df_realtor = (spark.read.format('csv').option('header','true').load('../datasets/realtor-data.csv'))\n",
    "df_realtor.show(2)"
   ]
  },
  {
   "cell_type": "code",
   "execution_count": 47,
   "metadata": {},
   "outputs": [
    {
     "name": "stderr",
     "output_type": "stream",
     "text": [
      "                                                                                \r"
     ]
    }
   ],
   "source": [
    "df_realtor.write.parquet('../datasets/parquets/realtor_data.parquet')"
   ]
  },
  {
   "cell_type": "code",
   "execution_count": 50,
   "metadata": {},
   "outputs": [
    {
     "name": "stdout",
     "output_type": "stream",
     "text": [
      "+--------+---+----+--------+--------+-----------+--------+----------+--------------+--------+\n",
      "|  status|bed|bath|acre_lot|    city|      state|zip_code|house_size|prev_sold_date|   price|\n",
      "+--------+---+----+--------+--------+-----------+--------+----------+--------------+--------+\n",
      "|for_sale|3.0| 2.0|    0.12|Adjuntas|Puerto Rico|   601.0|     920.0|          NULL|105000.0|\n",
      "|for_sale|4.0| 2.0|    0.08|Adjuntas|Puerto Rico|   601.0|    1527.0|          NULL| 80000.0|\n",
      "+--------+---+----+--------+--------+-----------+--------+----------+--------------+--------+\n",
      "only showing top 2 rows\n",
      "\n"
     ]
    }
   ],
   "source": [
    "df_realtor = spark.read.parquet('../datasets/parquets/realtor_data.parquet')\n",
    "df_realtor.show(2)"
   ]
  },
  {
   "cell_type": "code",
   "execution_count": 51,
   "metadata": {},
   "outputs": [
    {
     "data": {
      "text/plain": [
       "DataFrame[status: string, bed: string, bath: string, acre_lot: string, city: string, state: string, zip_code: string, house_size: string, prev_sold_date: string, price: string]"
      ]
     },
     "execution_count": 51,
     "metadata": {},
     "output_type": "execute_result"
    }
   ],
   "source": [
    "df_realtor.cache()"
   ]
  },
  {
   "cell_type": "code",
   "execution_count": 54,
   "metadata": {},
   "outputs": [
    {
     "data": {
      "text/plain": [
       "32"
      ]
     },
     "execution_count": 54,
     "metadata": {},
     "output_type": "execute_result"
    }
   ],
   "source": [
    "df_realtor = df_realtor.repartition(32)\n",
    "df_realtor.rdd.getNumPartitions()"
   ]
  },
  {
   "cell_type": "code",
   "execution_count": 57,
   "metadata": {},
   "outputs": [
    {
     "name": "stdout",
     "output_type": "stream",
     "text": [
      "+--------------+--------+--------------+\n",
      "|         state|for_sale|ready_to_build|\n",
      "+--------------+--------+--------------+\n",
      "|   Connecticut|   12178|          NULL|\n",
      "|       Vermont|    1324|          NULL|\n",
      "|   Puerto Rico|   24679|          NULL|\n",
      "|Virgin Islands|    2573|          NULL|\n",
      "|  Rhode Island|    2401|          NULL|\n",
      "|      Virginia|       3|          NULL|\n",
      "|    New Jersey|       2|          NULL|\n",
      "| Massachusetts|   52513|           181|\n",
      "| New Hampshire|    2232|          NULL|\n",
      "|     Tennessee|      16|          NULL|\n",
      "|South Carolina|      24|          NULL|\n",
      "|      New York|    1874|          NULL|\n",
      "+--------------+--------+--------------+\n",
      "\n"
     ]
    }
   ],
   "source": [
    "df_realtor.groupBy('state').pivot('status').count().show()"
   ]
  },
  {
   "cell_type": "markdown",
   "metadata": {},
   "source": [
    "Mostre as 5 cidades que possuem as maiores casas"
   ]
  },
  {
   "cell_type": "code",
   "execution_count": 62,
   "metadata": {},
   "outputs": [
    {
     "name": "stderr",
     "output_type": "stream",
     "text": [
      "[Stage 4471:===========================================>          (26 + 6) / 32]\r"
     ]
    },
    {
     "name": "stdout",
     "output_type": "stream",
     "text": [
      "+----------+--------------+\n",
      "|      city|house_size_max|\n",
      "+----------+--------------+\n",
      "|     Acton|       99999.0|\n",
      "|Middletown|       99999.0|\n",
      "|  Chicopee|        9999.0|\n",
      "|   Holyoke|        9999.0|\n",
      "|    Dorado|         999.0|\n",
      "+----------+--------------+\n",
      "only showing top 5 rows\n",
      "\n"
     ]
    },
    {
     "name": "stderr",
     "output_type": "stream",
     "text": [
      "                                                                                \r"
     ]
    }
   ],
   "source": [
    "(df_realtor\n",
    ".fillna(0,subset = 'house_size')\n",
    ".groupBy('city')\n",
    ".agg(F.max('house_size').alias('house_size_max'))\n",
    ".orderBy(F.desc('house_size_max'))\n",
    ".show(5))"
   ]
  },
  {
   "cell_type": "markdown",
   "metadata": {},
   "source": [
    "Crie a seguinte tabela, realize um inner join com essa tabela. Conte o número de registros do resultado final."
   ]
  },
  {
   "cell_type": "code",
   "execution_count": 60,
   "metadata": {},
   "outputs": [
    {
     "data": {
      "text/html": [
       "<div>\n",
       "<style scoped>\n",
       "    .dataframe tbody tr th:only-of-type {\n",
       "        vertical-align: middle;\n",
       "    }\n",
       "\n",
       "    .dataframe tbody tr th {\n",
       "        vertical-align: top;\n",
       "    }\n",
       "\n",
       "    .dataframe thead th {\n",
       "        text-align: right;\n",
       "    }\n",
       "</style>\n",
       "<table border=\"1\" class=\"dataframe\">\n",
       "  <thead>\n",
       "    <tr style=\"text-align: right;\">\n",
       "      <th></th>\n",
       "      <th>state</th>\n",
       "      <th>population</th>\n",
       "    </tr>\n",
       "  </thead>\n",
       "  <tbody>\n",
       "    <tr>\n",
       "      <th>0</th>\n",
       "      <td>Connecticut</td>\n",
       "      <td>3606</td>\n",
       "    </tr>\n",
       "    <tr>\n",
       "      <th>1</th>\n",
       "      <td>Puerto Rico</td>\n",
       "      <td>3264</td>\n",
       "    </tr>\n",
       "    <tr>\n",
       "      <th>2</th>\n",
       "      <td>Massachusetts</td>\n",
       "      <td>6985</td>\n",
       "    </tr>\n",
       "    <tr>\n",
       "      <th>3</th>\n",
       "      <td>New York</td>\n",
       "      <td>8468</td>\n",
       "    </tr>\n",
       "  </tbody>\n",
       "</table>\n",
       "</div>"
      ],
      "text/plain": [
       "           state  population\n",
       "0    Connecticut        3606\n",
       "1    Puerto Rico        3264\n",
       "2  Massachusetts        6985\n",
       "3       New York        8468"
      ]
     },
     "execution_count": 60,
     "metadata": {},
     "output_type": "execute_result"
    }
   ],
   "source": [
    "import pandas as pd\n",
    "df = pd.DataFrame({'state':['Connecticut',\n",
    "                            'Puerto Rico',\n",
    "                            'Massachusetts',\n",
    "                            'New York'],\n",
    "                    'population':[3606,3264,6985,8468]})\n",
    "df"
   ]
  },
  {
   "cell_type": "code",
   "execution_count": 63,
   "metadata": {},
   "outputs": [
    {
     "name": "stderr",
     "output_type": "stream",
     "text": [
      "                                                                                \r"
     ]
    },
    {
     "name": "stdout",
     "output_type": "stream",
     "text": [
      "+-------------+----------+\n",
      "|        state|population|\n",
      "+-------------+----------+\n",
      "|  Connecticut|      3606|\n",
      "|  Puerto Rico|      3264|\n",
      "|Massachusetts|      6985|\n",
      "|     New York|      8468|\n",
      "+-------------+----------+\n",
      "\n"
     ]
    }
   ],
   "source": [
    "df_sk = spark.createDataFrame(df)\n",
    "df_sk.show()"
   ]
  },
  {
   "cell_type": "code",
   "execution_count": 69,
   "metadata": {},
   "outputs": [
    {
     "data": {
      "text/plain": [
       "91425"
      ]
     },
     "execution_count": 69,
     "metadata": {},
     "output_type": "execute_result"
    }
   ],
   "source": [
    "df_realtor.join(df_sk,'state','inner').orderBy('population').count()"
   ]
  }
 ],
 "metadata": {
  "kernelspec": {
   "display_name": "Python 3",
   "language": "python",
   "name": "python3"
  },
  "language_info": {
   "codemirror_mode": {
    "name": "ipython",
    "version": 3
   },
   "file_extension": ".py",
   "mimetype": "text/x-python",
   "name": "python",
   "nbconvert_exporter": "python",
   "pygments_lexer": "ipython3",
   "version": "3.10.12"
  }
 },
 "nbformat": 4,
 "nbformat_minor": 2
}
