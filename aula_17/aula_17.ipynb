{
 "cells": [
  {
   "cell_type": "code",
   "execution_count": 1,
   "metadata": {},
   "outputs": [],
   "source": [
    "import pandas as pd\n",
    "import numpy as np\n",
    "import re"
   ]
  },
  {
   "cell_type": "code",
   "execution_count": 2,
   "metadata": {},
   "outputs": [],
   "source": [
    "texto = \"\"\"\n",
    "O telefone da farmácia é 3000-3232, mas eles só atendem até as 18h em dias úteis.\n",
    "Se precisar entrar em contato fora desse horário, você pode enviar uma mensagem para o celular de emergência no número (11) 98765-4321.\n",
    "Importante ressaltar que hoje, 27/02/2024, é o último dia para aproveitar a promoção especial de medicamentos que começou em 01/02/2024.\n",
    "Não esqueça de apresentar seu CPF na hora da compra, o número 1.78923.456-00 é um exemplo válido.\n",
    "Para mais informações, acesse nosso site ou entre em contato diretamente 19h artemisia@prof\n",
    "(12)98765-4321\n",
    "27-02-2024.\n",
    "\"\"\""
   ]
  },
  {
   "cell_type": "code",
   "execution_count": 3,
   "metadata": {},
   "outputs": [
    {
     "name": "stdout",
     "output_type": "stream",
     "text": [
      "correspodência encontrada\n"
     ]
    }
   ],
   "source": [
    "padrao = re.search(r\"\\d{2}h\",texto)\n",
    "\n",
    "if padrao:\n",
    "    print('correspodência encontrada')"
   ]
  },
  {
   "cell_type": "code",
   "execution_count": 4,
   "metadata": {},
   "outputs": [
    {
     "name": "stdout",
     "output_type": "stream",
     "text": [
      "64 67\n",
      "18h\n"
     ]
    }
   ],
   "source": [
    "print(padrao.start(),padrao.end())\n",
    "print(padrao.group(0))"
   ]
  },
  {
   "cell_type": "code",
   "execution_count": 5,
   "metadata": {},
   "outputs": [
    {
     "data": {
      "text/plain": [
       "['98765', '78923', '98765']"
      ]
     },
     "execution_count": 5,
     "metadata": {},
     "output_type": "execute_result"
    }
   ],
   "source": [
    "padroes = re.findall(r'[0-9]{5}',texto)\n",
    "padroes"
   ]
  },
  {
   "cell_type": "code",
   "execution_count": 6,
   "metadata": {},
   "outputs": [
    {
     "data": {
      "text/plain": [
       "['artemisia@prof']"
      ]
     },
     "execution_count": 6,
     "metadata": {},
     "output_type": "execute_result"
    }
   ],
   "source": [
    "padroes2 = re.findall('[a-z]+@[a-z]+',texto)\n",
    "padroes2"
   ]
  },
  {
   "cell_type": "markdown",
   "metadata": {},
   "source": [
    "Escreva um programa que verifica se uma determinada string é um endereço de e-mail válido (caracteres_alfanuméricos@domínio.com)."
   ]
  },
  {
   "cell_type": "code",
   "execution_count": 7,
   "metadata": {},
   "outputs": [],
   "source": [
    "def verifica_email(email: str):\n",
    "    padrao = '^\\w+@\\w+\\.\\w+$'\n",
    "    return bool(re.match(padrao,email))"
   ]
  },
  {
   "cell_type": "code",
   "execution_count": 8,
   "metadata": {},
   "outputs": [
    {
     "name": "stdout",
     "output_type": "stream",
     "text": [
      "é invalido\n"
     ]
    }
   ],
   "source": [
    "if verifica_email('ana@'):\n",
    "    print('email valido')\n",
    "else:\n",
    "    print('é invalido')"
   ]
  },
  {
   "cell_type": "code",
   "execution_count": 9,
   "metadata": {},
   "outputs": [],
   "source": [
    "texto2 = \"\"\"Lorem ipsum dolor support3@ddd.com sit amet, consectetur adipiscing elit. Fusce dapibus, felis a tempor tristique, turpis enim feugiat tortor, a varius justo lectus sed velit. Ut eu ligula euismod, lacinia elit eu, commodo Nullam sales@salesforce.com lobortis lacus sed lorem malesuada, vel tristique quam tempus. Proin 3003-2312 aliquet malesuada condimentum arcu, id malesuada sagittis ex john.doe@uol.com scelerisque vitae. Suspendisse commodo, sapien eu vulputate viverra, metus nunc ultrices odio, at gravida turpis justo nec odio. In hac habitasse platea dictumst. Pellentesque habitant morbi tristique senectus et netus et malesuada fames ac turpis egestas. Sed eget leo ac justo commodo rutrum. Curabitur malesuada jane.smith@ddd.com luctus efficitur 98993-3102 mauris, vitae bibendum turpis. Nulla facilisi. In ullamcorper nisi vel congue pretium. Quisque sed enim non urna fermentum tincidunt.\"\"\""
   ]
  },
  {
   "cell_type": "code",
   "execution_count": 10,
   "metadata": {},
   "outputs": [
    {
     "data": {
      "text/plain": [
       "['support3@ddd.com',\n",
       " 'sales@salesforce.com',\n",
       " 'john.doe@uol.com',\n",
       " 'jane.smith@ddd.com']"
      ]
     },
     "execution_count": 10,
     "metadata": {},
     "output_type": "execute_result"
    }
   ],
   "source": [
    "padrao3 = re.findall('[a-z.0-9]+@[a-z.0-9]+',texto2)\n",
    "padrao3"
   ]
  },
  {
   "cell_type": "code",
   "execution_count": 11,
   "metadata": {},
   "outputs": [
    {
     "data": {
      "text/plain": [
       "['3000-3232', '(11) 98765-4321', '(12)98765-4321', '02-2024']"
      ]
     },
     "execution_count": 11,
     "metadata": {},
     "output_type": "execute_result"
    }
   ],
   "source": [
    "pattern = r'\\(?\\d{2}\\)\\s?\\d+-\\d{4,5}|\\d+-\\d{4,5}'\n",
    "\n",
    "re.findall(pattern, texto)"
   ]
  },
  {
   "cell_type": "code",
   "execution_count": 12,
   "metadata": {},
   "outputs": [],
   "source": [
    "import requests"
   ]
  },
  {
   "cell_type": "code",
   "execution_count": 13,
   "metadata": {},
   "outputs": [
    {
     "data": {
      "text/plain": [
       "200"
      ]
     },
     "execution_count": 13,
     "metadata": {},
     "output_type": "execute_result"
    }
   ],
   "source": [
    "url = 'https://www.google.com'\n",
    "resposta = requests.get(url)\n",
    "resposta.status_code"
   ]
  },
  {
   "cell_type": "code",
   "execution_count": 14,
   "metadata": {},
   "outputs": [
    {
     "name": "stdout",
     "output_type": "stream",
     "text": [
      "Defaulting to user installation because normal site-packages is not writeable\n",
      "Requirement already satisfied: beautifulsoup4 in /home/arteweyl/.local/lib/python3.10/site-packages (4.12.3)\n",
      "Requirement already satisfied: soupsieve>1.2 in /home/arteweyl/.local/lib/python3.10/site-packages (from beautifulsoup4) (2.5)\n",
      "Note: you may need to restart the kernel to use updated packages.\n"
     ]
    }
   ],
   "source": [
    "pip install beautifulsoup4"
   ]
  },
  {
   "cell_type": "code",
   "execution_count": 15,
   "metadata": {},
   "outputs": [],
   "source": [
    "from bs4 import BeautifulSoup"
   ]
  },
  {
   "cell_type": "code",
   "execution_count": 16,
   "metadata": {},
   "outputs": [
    {
     "data": {
      "text/plain": [
       "'<!DOCTYPE html>\\n<html itemscope=\"\" itemtype=\"http://schema.org/WebPage\" lang=\"pt-BR\">\\n <head>\\n  <meta content=\"text/html; charset=utf-8\" http-equiv=\"Content-Type\"/>\\n  <meta content=\"/images/branding/googleg/1x/googleg_standard_color_128dp.png\" itemprop=\"image\"/>\\n  <title>\\n   Google\\n  </title>\\n  <script nonce=\"50ci8o_H6DeB2oTwQ_XHaQ\">\\n   (function(){var _g={kEI:\\'eUFwZvrwG_LQkPIP4POb-Ak\\',kEXPI:\\'0,793344,2906928,1038,43,24,9,535950,2709,2872,2891,8349,34679,153611,6624,19540,30211,2,16395,23366,6700,41945,57737,2,2,1,10957,15675,8155,8861,14490,22435,9779,62658,73178,3030,15816,1804,14360,4,32718,1635,13493,28772,1198,5222020,2660,892,621,38,5991771,2840178,65,63,7,75,4,1,2,1,1,1,10,27981727,1008,15665,43886,3,318,4,1281,3,2124363,23029351,4117,8682,8409,6577,10087,5,21305,6717,12358,24512,1922,8589,2370,4834,1573,13845,15165,7981,200,390,5537,21010,22493,10085,11584,6755,155,399,1352,5,728,1709,2691,9104,7736,7,6592,2540,785,182,540,3092,207,121,385,158,1208,116,1350,4,123,2881,2949,5228,7414,4491,519,891,1888,1,6,1622,3,1308,3314,917,3073,17,3599,586,1712,456,990,1122,3,7,46,24,105,235,57,1296,65,90,425,664,2838,1396,2,24,170,1023,290,3,1417,3,5,985,658,41,211,1963,2443,2,424,516,764,329,1820,1025,554,136,129,451,89,1,220,450,1,19,204,4014,4,1166,779,914,754,464,157,744,8,1528,215,730,8,122,5,234,498,1,567,573,48,2797,1129,436,107,65,1160,187,291,3,7,605,660,654,258,1703,22,291,2,365,38,244,6,374,466,117,194,54,38,4,1,6,109,1188,896,239,861,9,118,4,1,6,189,319,1739,178,190,1,3,37,289,213,53,454,732,21,110,176,3,1,3,34,472,22,67,260,165,11,49,3,211,158,931,2,1106,61,516,482,542,164,14,223,231,1565,96,1411,24,405,220,46,753,340,231,48,58,12,131,358,38,202,45,8,1,1,320,4,183,51,6,294,2,157,246,554,127,127,657,1531,1250,571,21567821,3,14169,1470,1185,990,322,41,49,496,700,295,239,1668\\',kBL:\\'028n\\',kOPI:89978449};(function(){var a;((a=window.google)==null?0:a.stvsc)?google.kEI=_g.kEI:window.google=_g;}).call(this);})();(function(){google.sn=\\'webhp\\';google.kHL=\\'pt-BR\\';})();(function(){\\nvar h=this||self;function l(){return window.google!==void 0&&window.google.kOPI!==void 0&&window.google.kOPI!==0?window.google.kOPI:null};var m,n=[];function p(a){for(var b;a&&(!a.getAttribute||!(b=a.getAttribute(\"eid\")));)a=a.parentNode;return b||m}function q(a){for(var b=null;a&&(!a.getAttribute||!(b=a.getAttribute(\"leid\")));)a=a.parentNode;return b}function r(a){/^http:/i.test(a)&&window.location.protocol===\"https:\"&&(google.ml&&google.ml(Error(\"a\"),!1,{src:a,glmm:1}),a=\"\");return a}\\nfunction t(a,b,c,d,k){var e=\"\";b.search(\"&ei=\")===-1&&(e=\"&ei=\"+p(d),b.search(\"&lei=\")===-1&&(d=q(d))&&(e+=\"&lei=\"+d));d=\"\";var g=b.search(\"&cshid=\")===-1&&a!==\"slh\",f=[];f.push([\"zx\",Date.now().toString()]);h._cshid&&g&&f.push([\"cshid\",h._cshid]);c=c();c!=null&&f.push([\"opi\",c.toString()]);for(c=0;c<f.length;c++){if(c===0||c>0)d+=\"&\";d+=f[c][0]+\"=\"+f[c][1]}return\"/\"+(k||\"gen_204\")+\"?atyp=i&ct=\"+String(a)+\"&cad=\"+(b+e+d)};m=google.kEI;google.getEI=p;google.getLEI=q;google.ml=function(){return null};google.log=function(a,b,c,d,k,e){e=e===void 0?l:e;c||(c=t(a,b,e,d,k));if(c=r(c)){a=new Image;var g=n.length;n[g]=a;a.onerror=a.onload=a.onabort=function(){delete n[g]};a.src=c}};google.logUrl=function(a,b){b=b===void 0?l:b;return t(\"\",a,b)};}).call(this);(function(){google.y={};google.sy=[];google.x=function(a,b){if(a)var c=a.id;else{do c=Math.random();while(google.y[c])}google.y[c]=[a,b];return!1};google.sx=function(a){google.sy.push(a)};google.lm=[];google.plm=function(a){google.lm.push.apply(google.lm,a)};google.lq=[];google.load=function(a,b,c){google.lq.push([[a],b,c])};google.loadAll=function(a,b){google.lq.push([a,b])};google.bx=!1;google.lx=function(){};var d=[];google.fce=function(a,b,c,e){d.push([a,b,c,e])};google.qce=d;}).call(this);google.f={};(function(){\\ndocument.documentElement.addEventListener(\"submit\",function(b){var a;if(a=b.target){var c=a.getAttribute(\"data-submitfalse\");a=c===\"1\"||c===\"q\"&&!a.elements.q.value?!0:!1}else a=!1;a&&(b.preventDefault(),b.stopPropagation())},!0);document.documentElement.addEventListener(\"click\",function(b){var a;a:{for(a=b.target;a&&a!==document.documentElement;a=a.parentElement)if(a.tagName===\"A\"){a=a.getAttribute(\"data-nohref\")===\"1\";break a}a=!1}a&&b.preventDefault()},!0);}).call(this);\\n  </script>\\n  <style>\\n   #gbar,#guser{font-size:13px;padding-top:1px !important;}#gbar{height:22px}#guser{padding-bottom:7px !important;text-align:right}.gbh,.gbd{border-top:1px solid #c9d7f1;font-size:1px}.gbh{height:0;position:absolute;top:24px;width:100%}@media all{.gb1{height:22px;margin-right:.5em;vertical-align:top}#gbar{float:left}}a.gb1,a.gb4{text-decoration:underline !important}a.gb1,a.gb4{color:#00c !important}.gbi .gb4{color:#dd8e27 !important}.gbf .gb4{color:#900 !important}\\n  </style>\\n  <style>\\n   body,td,a,p,.h{font-family:arial,sans-serif}body{margin:0;overflow-y:scroll}#gog{padding:3px 8px 0}td{line-height:.8em}.gac_m td{line-height:17px}form{margin-bottom:20px}.h{color:#1967d2}em{font-weight:bold;font-style:normal}.lst{height:25px;width:496px}.gsfi,.lst{font:18px arial,sans-serif}.gsfs{font:17px arial,sans-serif}.ds{display:inline-box;display:inline-block;margin:3px 0 4px;margin-left:4px}input{font-family:inherit}body{background:#fff;color:#000}a{color:#681da8;text-decoration:none}a:hover,a:active{text-decoration:underline}.fl a{color:#1967d2}a:visited{color:#681da8}.sblc{padding-top:5px}.sblc a{display:block;margin:2px 0;margin-left:13px;font-size:11px}.lsbb{background:#f8f9fa;border:solid 1px;border-color:#dadce0 #70757a #70757a #dadce0;height:30px}.lsbb{display:block}#WqQANb a{display:inline-block;margin:0 12px}.lsb{background:url(/images/nav_logo229.png) 0 -261px repeat-x;color:#000;border:none;cursor:pointer;height:30px;margin:0;outline:0;font:15px arial,sans-serif;vertical-align:top}.lsb:active{background:#dadce0}.lst:focus{outline:none}.Ucigb{width:458px}\\n  </style>\\n  <script nonce=\"50ci8o_H6DeB2oTwQ_XHaQ\">\\n   (function(){window.google.erd={jsr:1,bv:2025,de:true};\\nvar h=this||self;var k,l=(k=h.mei)!=null?k:1,n,p=(n=h.sdo)!=null?n:!0,q=0,r,t=google.erd,v=t.jsr;google.ml=function(a,b,d,m,e){e=e===void 0?2:e;b&&(r=a&&a.message);d===void 0&&(d={});d.cad=\"ple_\"+google.ple+\".aple_\"+google.aple;if(google.dl)return google.dl(a,e,d,!0),null;b=d;if(v<0){window.console&&console.error(a,b);if(v===-2)throw a;b=!1}else b=!a||!a.message||a.message===\"Error loading script\"||q>=l&&!m?!1:!0;if(!b)return null;q++;d=d||{};b=encodeURIComponent;var c=\"/gen_204?atyp=i&ei=\"+b(google.kEI);google.kEXPI&&(c+=\"&jexpid=\"+b(google.kEXPI));c+=\"&srcpg=\"+b(google.sn)+\"&jsr=\"+b(t.jsr)+\\n\"&bver=\"+b(t.bv);var f=a.lineNumber;f!==void 0&&(c+=\"&line=\"+f);var g=a.fileName;g&&(g.indexOf(\"-extension:/\")>0&&(e=3),c+=\"&script=\"+b(g),f&&g===window.location.href&&(f=document.documentElement.outerHTML.split(\"\\\\n\")[f],c+=\"&cad=\"+b(f?f.substring(0,300):\"No script found.\")));google.ple&&google.ple===1&&(e=2);c+=\"&jsel=\"+e;for(var u in d)c+=\"&\",c+=b(u),c+=\"=\",c+=b(d[u]);c=c+\"&emsg=\"+b(a.name+\": \"+a.message);c=c+\"&jsst=\"+b(a.stack||\"N/A\");c.length>=12288&&(c=c.substr(0,12288));a=c;m||google.log(0,\"\",a);return a};window.onerror=function(a,b,d,m,e){r!==a&&(a=e instanceof Error?e:Error(a),d===void 0||\"lineNumber\"in a||(a.lineNumber=d),b===void 0||\"fileName\"in a||(a.fileName=b),google.ml(a,!1,void 0,!1,a.name===\"SyntaxError\"||a.message.substring(0,11)===\"SyntaxError\"||a.message.indexOf(\"Script error\")!==-1?3:0));r=null;p&&q>=l&&(window.onerror=null)};})();\\n  </script>\\n </head>\\n <body bgcolor=\"#fff\">\\n  <script nonce=\"50ci8o_H6DeB2oTwQ_XHaQ\">\\n   (function(){var src=\\'/images/nav_logo229.png\\';var iesg=false;document.body.onload = function(){window.n && window.n();if (document.images){new Image().src=src;}\\nif (!iesg){document.f&&document.f.q.focus();document.gbqf&&document.gbqf.q.focus();}\\n}\\n})();\\n  </script>\\n  <div id=\"mngb\">\\n   <div id=\"gbar\">\\n    <nobr>\\n     <b class=\"gb1\">\\n      Pesquisa\\n     </b>\\n     <a class=\"gb1\" href=\"https://www.google.com/imghp?hl=pt-BR&amp;tab=wi\">\\n      Imagens\\n     </a>\\n     <a class=\"gb1\" href=\"https://maps.google.com.br/maps?hl=pt-BR&amp;tab=wl\">\\n      Maps\\n     </a>\\n     <a class=\"gb1\" href=\"https://play.google.com/?hl=pt-BR&amp;tab=w8\">\\n      Play\\n     </a>\\n     <a class=\"gb1\" href=\"https://www.youtube.com/?tab=w1\">\\n      YouTube\\n     </a>\\n     <a class=\"gb1\" href=\"https://news.google.com/?tab=wn\">\\n      Notícias\\n     </a>\\n     <a class=\"gb1\" href=\"https://mail.google.com/mail/?tab=wm\">\\n      Gmail\\n     </a>\\n     <a class=\"gb1\" href=\"https://drive.google.com/?tab=wo\">\\n      Drive\\n     </a>\\n     <a class=\"gb1\" href=\"https://www.google.com.br/intl/pt-BR/about/products?tab=wh\" style=\"text-decoration:none\">\\n      <u>\\n       Mais\\n      </u>\\n      »\\n     </a>\\n    </nobr>\\n   </div>\\n   <div id=\"guser\" width=\"100%\">\\n    <nobr>\\n     <span class=\"gbi\" id=\"gbn\">\\n     </span>\\n     <span class=\"gbf\" id=\"gbf\">\\n     </span>\\n     <span id=\"gbe\">\\n     </span>\\n     <a class=\"gb4\" href=\"http://www.google.com.br/history/optout?hl=pt-BR\">\\n      Histórico da Web\\n     </a>\\n     |\\n     <a class=\"gb4\" href=\"/preferences?hl=pt-BR\">\\n      Configurações\\n     </a>\\n     |\\n     <a class=\"gb4\" href=\"https://accounts.google.com/ServiceLogin?hl=pt-BR&amp;passive=true&amp;continue=https://www.google.com/&amp;ec=GAZAAQ\" id=\"gb_70\" target=\"_top\">\\n      Fazer login\\n     </a>\\n    </nobr>\\n   </div>\\n   <div class=\"gbh\" style=\"left:0\">\\n   </div>\\n   <div class=\"gbh\" style=\"right:0\">\\n   </div>\\n  </div>\\n  <center>\\n   <br clear=\"all\" id=\"lgpd\"/>\\n   <div id=\"lga\">\\n    <img alt=\"Google\" height=\"92\" id=\"hplogo\" src=\"/images/branding/googlelogo/1x/googlelogo_white_background_color_272x92dp.png\" style=\"padding:28px 0 14px\" width=\"272\"/>\\n    <br/>\\n    <br/>\\n   </div>\\n   <form action=\"/search\" name=\"f\">\\n    <table cellpadding=\"0\" cellspacing=\"0\">\\n     <tr valign=\"top\">\\n      <td width=\"25%\">\\n      </td>\\n      <td align=\"center\" nowrap=\"\">\\n       <input name=\"ie\" type=\"hidden\" value=\"ISO-8859-1\"/>\\n       <input name=\"hl\" type=\"hidden\" value=\"pt-BR\"/>\\n       <input name=\"source\" type=\"hidden\" value=\"hp\"/>\\n       <input name=\"biw\" type=\"hidden\"/>\\n       <input name=\"bih\" type=\"hidden\"/>\\n       <div class=\"ds\" style=\"height:32px;margin:4px 0\">\\n        <div style=\"position:relative;zoom:1\">\\n         <input autocomplete=\"off\" class=\"lst Ucigb\" maxlength=\"2048\" name=\"q\" size=\"57\" style=\"margin:0;padding:5px 8px 0 6px;vertical-align:top;color:#000;padding-right:38px\" title=\"Pesquisa Google\" value=\"\"/>\\n         <img alt=\"\" data-script-url=\"/textinputassistant/13/pt-BR_tia.js\" height=\"23\" id=\"tsuid_1\" src=\"/textinputassistant/tia.png\" style=\"position:absolute;cursor:pointer;right:5px;top:4px;z-index:300\" width=\"27\"/>\\n         <script nonce=\"50ci8o_H6DeB2oTwQ_XHaQ\">\\n          (function(){var id=\\'tsuid_1\\';document.getElementById(id).onclick = function(){var s = document.createElement(\\'script\\');s.src = this.getAttribute(\\'data-script-url\\');document.body.appendChild(s);};})();\\n         </script>\\n        </div>\\n       </div>\\n       <br style=\"line-height:0\"/>\\n       <span class=\"ds\">\\n        <span class=\"lsbb\">\\n         <input class=\"lsb\" name=\"btnG\" type=\"submit\" value=\"Pesquisa Google\"/>\\n        </span>\\n       </span>\\n       <span class=\"ds\">\\n        <span class=\"lsbb\">\\n         <input class=\"lsb\" id=\"tsuid_2\" name=\"btnI\" type=\"submit\" value=\"Estou com sorte\"/>\\n         <script nonce=\"50ci8o_H6DeB2oTwQ_XHaQ\">\\n          (function(){var id=\\'tsuid_2\\';document.getElementById(id).onclick = function(){if (this.form.q.value){this.checked = 1;if (this.form.iflsig)this.form.iflsig.disabled = false;}\\nelse top.location=\\'/doodles/\\';};})();\\n         </script>\\n         <input name=\"iflsig\" type=\"hidden\" value=\"AL9hbdgAAAAAZnBPiYEWoiocXKwT0FNoc1bNp0QyiRjR\"/>\\n        </span>\\n       </span>\\n      </td>\\n      <td align=\"left\" class=\"fl sblc\" nowrap=\"\" width=\"25%\">\\n       <a href=\"/advanced_search?hl=pt-BR&amp;authuser=0\">\\n        Pesquisa avançada\\n       </a>\\n      </td>\\n     </tr>\\n    </table>\\n    <input id=\"gbv\" name=\"gbv\" type=\"hidden\" value=\"1\"/>\\n    <script nonce=\"50ci8o_H6DeB2oTwQ_XHaQ\">\\n     (function(){var a,b=\"1\";if(document&&document.getElementById)if(typeof XMLHttpRequest!=\"undefined\")b=\"2\";else if(typeof ActiveXObject!=\"undefined\"){var c,d,e=[\"MSXML2.XMLHTTP.6.0\",\"MSXML2.XMLHTTP.3.0\",\"MSXML2.XMLHTTP\",\"Microsoft.XMLHTTP\"];for(c=0;d=e[c++];)try{new ActiveXObject(d),b=\"2\"}catch(h){}}a=b;if(a==\"2\"&&location.search.indexOf(\"&gbv=2\")==-1){var f=google.gbvu,g=document.getElementById(\"gbv\");g&&(g.value=a);f&&window.setTimeout(function(){location.href=f},0)};}).call(this);\\n    </script>\\n   </form>\\n   <div id=\"gac_scont\">\\n   </div>\\n   <div style=\"font-size:83%;min-height:3.5em\">\\n    <br/>\\n   </div>\\n   <span id=\"footer\">\\n    <div style=\"font-size:10pt\">\\n     <div id=\"WqQANb\" style=\"margin:19px auto;text-align:center\">\\n      <a href=\"/intl/pt-BR/ads/\">\\n       Publicidade\\n      </a>\\n      <a href=\"/services/\">\\n       Soluções empresariais\\n      </a>\\n      <a href=\"/intl/pt-BR/about.html\">\\n       Sobre o Google\\n      </a>\\n      <a href=\"https://www.google.com/setprefdomain?prefdom=BR&amp;prev=https://www.google.com.br/&amp;sig=K_RbX831xdqnY1PaIw8G2lm1x6koU%3D\">\\n       Google.com.br\\n      </a>\\n     </div>\\n    </div>\\n    <p style=\"font-size:8pt;color:#70757a\">\\n     © 2024 -\\n     <a href=\"/intl/pt-BR/policies/privacy/\">\\n      Privacidade\\n     </a>\\n     -\\n     <a href=\"/intl/pt-BR/policies/terms/\">\\n      Termos\\n     </a>\\n    </p>\\n   </span>\\n  </center>\\n  <script nonce=\"50ci8o_H6DeB2oTwQ_XHaQ\">\\n   (function(){window.google.cdo={height:757,width:1440};(function(){var a=window.innerWidth,b=window.innerHeight;if(!a||!b){var c=window.document,d=c.compatMode==\"CSS1Compat\"?c.documentElement:c.body;a=d.clientWidth;b=d.clientHeight}\\nif(a&&b&&(a!=google.cdo.width||b!=google.cdo.height)){var e=google,f=e.log,g=\"/client_204?&atyp=i&biw=\"+a+\"&bih=\"+b+\"&ei=\"+google.kEI,h=\"\",k=[],l=window.google!==void 0&&window.google.kOPI!==void 0&&window.google.kOPI!==0?window.google.kOPI:null;l!=null&&k.push([\"opi\",l.toString()]);for(var m=0;m<k.length;m++){if(m===0||m>0)h+=\"&\";h+=k[m][0]+\"=\"+k[m][1]}f.call(e,\"\",\"\",g+h)};}).call(this);})();\\n  </script>\\n  <script nonce=\"50ci8o_H6DeB2oTwQ_XHaQ\">\\n   (function(){google.xjs={basecomb:\\'/xjs/_/js/k\\\\x3dxjs.hp.en.ubaJ7fxDdJE.O/ck\\\\x3dxjs.hp.Dm7f9e3SEeE.L.X.O/am\\\\x3dAQAAAAEAAAAAAAAAAAAAAAAAAAAAAAEAAAAAAAAABOAAQACAAACBAAAAAPADAAAAAAAAAAIACAABAHAgviMAEIBFAAB4AQ/d\\\\x3d1/ed\\\\x3d1/dg\\\\x3d0/ujg\\\\x3d1/rs\\\\x3dACT90oHWdvBJ9qfU-oBrM3JMLCMUvTVxSw\\',basecss:\\'/xjs/_/ss/k\\\\x3dxjs.hp.Dm7f9e3SEeE.L.X.O/am\\\\x3dAQAAAAEAAAAAAAAAAAAAAAAAAAAAAAAAAAAAAAAAAAAAQACAAACBAAAAAAAAAAAAAAAAAAIACAAB/rs\\\\x3dACT90oE0blZWDI5CFwRMO1pKMf7QWH5qgg\\',basejs:\\'/xjs/_/js/k\\\\x3dxjs.hp.en.ubaJ7fxDdJE.O/am\\\\x3dAAAAAAAAAAAAAAAAAAAAAAAAAAAAAAEAAAAAAAAABOAAAAAAAAAAAAAAAPADAAAAAAAAAAAAAAAAAHAgviMAEIBFAAB4AQ/dg\\\\x3d0/rs\\\\x3dACT90oGFYraYsOoAMQJnrKuSuQCfAlGFOw\\',excm:[]};})();\\n  </script>\\n  <link href=\"/xjs/_/ss/k=xjs.hp.Dm7f9e3SEeE.L.X.O/am=AQAAAAEAAAAAAAAAAAAAAAAAAAAAAAAAAAAAAAAAAAAAQACAAACBAAAAAAAAAAAAAAAAAAIACAAB/d=1/ed=1/rs=ACT90oE0blZWDI5CFwRMO1pKMf7QWH5qgg/m=sb_he,d\" nonce=\"50ci8o_H6DeB2oTwQ_XHaQ\" rel=\"stylesheet\"/>\\n  <script nonce=\"50ci8o_H6DeB2oTwQ_XHaQ\">\\n   (function(){var u=\\'/xjs/_/js/k\\\\x3dxjs.hp.en.ubaJ7fxDdJE.O/am\\\\x3dAAAAAAAAAAAAAAAAAAAAAAAAAAAAAAEAAAAAAAAABOAAAAAAAAAAAAAAAPADAAAAAAAAAAAAAAAAAHAgviMAEIBFAAB4AQ/d\\\\x3d1/ed\\\\x3d1/rs\\\\x3dACT90oGFYraYsOoAMQJnrKuSuQCfAlGFOw/m\\\\x3dsb_he,d\\';var st=1;var amd=1000;var v=false;\\nvar e=this||self,f=function(a){return a};var g;var h=function(a){this.g=a};h.prototype.toString=function(){return this.g+\"\"};var k={};\\nfunction l(a,b){a.src=b instanceof h&&b.constructor===h?b.g:\"type_error:TrustedResourceUrl\";var c,d;(c=(b=(d=(c=(a.ownerDocument&&a.ownerDocument.defaultView||window).document).querySelector)==null?void 0:d.call(c,\"script[nonce]\"))?b.nonce||b.getAttribute(\"nonce\")||\"\":\"\")&&a.setAttribute(\"nonce\",c)};var m=function(){var a=document;var b=\"SCRIPT\";a.contentType===\"application/xhtml+xml\"&&(b=b.toLowerCase());return a.createElement(b)};function n(a){a=a===null?\"null\":a===void 0?\"undefined\":a;if(g===void 0){var b=null;var c=e.trustedTypes;if(c&&c.createPolicy){try{b=c.createPolicy(\"goog#html\",{createHTML:f,createScript:f,createScriptURL:f})}catch(d){e.console&&e.console.error(d.message)}g=b}else g=b}a=(b=g)?b.createScriptURL(a):a;return new h(a,k)};google.ps===void 0&&(google.ps=[]);function p(){var a=u,b=function(){};google.lx=google.stvsc?b:function(){q(a);google.lx=b};google.bx||google.lx()}function r(a,b){b&&l(a,n(b));var c=a.onload;a.onload=function(d){c&&c(d);google.ps=google.ps.filter(function(B){return a!==B})};google.ps.push(a);document.body.appendChild(a)}google.as=r;function q(a){google.timers&&google.timers.load&&google.tick&&google.tick(\"load\",\"xjsls\");var b=m();b.onerror=function(){google.ple=1};b.onload=function(){google.ple=0};google.xjsus=void 0;r(b,a);google.aple=-1;google.psa=!0};function t(a){var b=a.getAttribute(\"jscontroller\");return(b===\"UBXHI\"||b===\"R3fhkb\"||b===\"TSZEqd\")&&a.hasAttribute(\"data-src\")}for(var w=document.getElementsByTagName(\"img\"),x=0,y=w.length;x<y;++x){var z=w[x];Number(z.getAttribute(\"data-atf\"))&1&&t(z)&&(z.src=z.getAttribute(\"data-src\"))};google.xjsu=u;e._F_jsUrl=u;var A=!1;function C(){A||(p(),A=!0)}\\nsetTimeout(function(){google&&google.tick&&google.timers&&google.timers.load&&google.tick(\"load\",\"xjspls\");var a;if(!(a=st!==1||!google.caft||v&&document.visibilityState!==\"visible\"))a:{a=document.getElementsByTagName(\"img\");for(var b=0,c=a.length;b<c;b++){var d=a[b];if(d.hasAttribute(\"data-lzy_\")&&Number(d.getAttribute(\"data-atf\"))&1&&!t(d)){a=!0;break a}}a=!1}a?st!==2||!google.rairicb||v&&document.visibilityState!==\"visible\"?p():(window.setTimeout(C,amd),google.rairicb(C)):(window.setTimeout(C,amd),google.caft(C))},0);})();window._ = window._ || {};window._DumpException = _._DumpException = function(e){throw e;};window._s = window._s || {};_s._DumpException = _._DumpException;window._qs = window._qs || {};_qs._DumpException = _._DumpException;(function(){var t=[1,4,0,0,0,83886080,0,268764160,805363748,131073,67110928,16515090,0,134217728,272662528,136052736,268444606,71200,6016];window._F_toggles = window._xjs_toggles = t;})();function _F_installCss(c){}\\n(function(){google.jl={bfl:0,dw:false,ine:false,ubm:false,uwp:true,vs:false};})();(function(){var pmc=\\'{\\\\x22d\\\\x22:{},\\\\x22sb_he\\\\x22:{\\\\x22agen\\\\x22:false,\\\\x22cgen\\\\x22:false,\\\\x22client\\\\x22:\\\\x22heirloom-hp\\\\x22,\\\\x22dh\\\\x22:true,\\\\x22ds\\\\x22:\\\\x22\\\\x22,\\\\x22fl\\\\x22:true,\\\\x22host\\\\x22:\\\\x22google.com\\\\x22,\\\\x22jsonp\\\\x22:true,\\\\x22msgs\\\\x22:{\\\\x22cibl\\\\x22:\\\\x22Limpar pesquisa\\\\x22,\\\\x22dym\\\\x22:\\\\x22Voc\\\\\\\\u00ea quis dizer:\\\\x22,\\\\x22lcky\\\\x22:\\\\x22Estou com sorte\\\\x22,\\\\x22lml\\\\x22:\\\\x22Saiba mais\\\\x22,\\\\x22psrc\\\\x22:\\\\x22Esta pesquisa foi removida do seu\\\\\\\\u003Ca href\\\\x3d\\\\\\\\\\\\x22/history\\\\\\\\\\\\x22\\\\\\\\u003EHist\\\\\\\\u00f3rico da web\\\\\\\\u003C/a\\\\\\\\u003E\\\\x22,\\\\x22psrl\\\\x22:\\\\x22Remover\\\\x22,\\\\x22sbit\\\\x22:\\\\x22Pesquisa por imagem\\\\x22,\\\\x22srch\\\\x22:\\\\x22Pesquisa Google\\\\x22},\\\\x22ovr\\\\x22:{},\\\\x22pq\\\\x22:\\\\x22\\\\x22,\\\\x22rfs\\\\x22:[],\\\\x22sbas\\\\x22:\\\\x220 3px 8px 0 rgba(0,0,0,0.2),0 0 0 1px rgba(0,0,0,0.08)\\\\x22,\\\\x22stok\\\\x22:\\\\x22_EYpToFBgEAk5hbZrqSZCwuIlnI\\\\x22}}\\';google.pmc=JSON.parse(pmc);})();(function(){var c=function(a){var b=0;return function(){return b<a.length?{done:!1,value:a[b++]}:{done:!0}}};\\nvar e=this||self;var g,h;a:{for(var k=[\"CLOSURE_FLAGS\"],l=e,n=0;n<k.length;n++)if(l=l[k[n]],l==null){h=null;break a}h=l}var p=h&&h[610401301];g=p!=null?p:!1;var q,r=e.navigator;q=r?r.userAgentData||null:null;function t(a){return g?q?q.brands.some(function(b){return(b=b.brand)&&b.indexOf(a)!=-1}):!1:!1}function u(a){var b;a:{if(b=e.navigator)if(b=b.userAgent)break a;b=\"\"}return b.indexOf(a)!=-1};function v(){return g?!!q&&q.brands.length>0:!1}function w(){return u(\"Safari\")&&!(x()||(v()?0:u(\"Coast\"))||(v()?0:u(\"Opera\"))||(v()?0:u(\"Edge\"))||(v()?t(\"Microsoft Edge\"):u(\"Edg/\"))||(v()?t(\"Opera\"):u(\"OPR\"))||u(\"Firefox\")||u(\"FxiOS\")||u(\"Silk\")||u(\"Android\"))}function x(){return v()?t(\"Chromium\"):(u(\"Chrome\")||u(\"CriOS\"))&&!(v()?0:u(\"Edge\"))||u(\"Silk\")}function y(){return u(\"Android\")&&!(x()||u(\"Firefox\")||u(\"FxiOS\")||(v()?0:u(\"Opera\"))||u(\"Silk\"))};var z=v()?!1:u(\"Trident\")||u(\"MSIE\");y();x();w();var A;A=typeof Symbol===\"function\"&&typeof Symbol()===\"symbol\"?Symbol():void 0;var B=[];(A?function(a,b){a[A]=b}:function(a,b){a.g!==void 0?a.g=b:Object.defineProperties(a,{g:{value:b,configurable:!0,writable:!0,enumerable:!1}})})(B,55);Object.freeze(B);var C=function(){};Object.freeze(new function(){});Object.freeze(new C);Object.freeze(new C);var D=!z&&!w(),G=function(a){if(/-[a-z]/.test(\"ved\"))return null;if(D&&a.dataset){if(y()&&!(\"ved\"in a.dataset))return null;a=a.dataset.ved;return a===void 0?null:a}return a.getAttribute(\"data-\"+\"ved\".replace(/([A-Z])/g,\"-$1\").toLowerCase())};var H=[],I=null;function J(a){a=a.target;var b=performance.now(),f=[],K=f.concat,d=H;if(!(d instanceof Array)){var m=typeof Symbol!=\"undefined\"&&Symbol.iterator&&d[Symbol.iterator];if(m)d=m.call(d);else if(typeof d.length==\"number\")d={next:c(d)};else throw Error(\"b`\"+String(d));for(var E=[];!(m=d.next()).done;)E.push(m.value);d=E}H=K.call(f,d,[b]);if(a&&a instanceof HTMLElement)if(a===I){if(b=H.length>=4)b=(H[H.length-1]-H[H.length-4])/1E3<5;if(b){b=google.getEI(a);a.hasAttribute(\"data-ved\")?f=a?G(a)||\"\":\"\":f=(f=\\na.closest(\"[data-ved]\"))?G(f)||\"\":\"\";f=f||\"\";if(a.hasAttribute(\"jsname\"))a=a.getAttribute(\"jsname\");else{var F;a=(F=a.closest(\"[jsname]\"))==null?void 0:F.getAttribute(\"jsname\")}google.log(\"rcm\",\"&ei=\"+b+\"&tgtved=\"+f+\"&jsname=\"+(a||\"\"))}}else I=a,H=[b]}window.document.addEventListener(\"DOMContentLoaded\",function(){document.body.addEventListener(\"click\",J)});}).call(this);\\n  </script>\\n </body>\\n</html>\\n'"
      ]
     },
     "execution_count": 16,
     "metadata": {},
     "output_type": "execute_result"
    }
   ],
   "source": [
    "soup = BeautifulSoup(resposta.text)\n",
    "soup.prettify()"
   ]
  },
  {
   "cell_type": "code",
   "execution_count": 17,
   "metadata": {},
   "outputs": [
    {
     "data": {
      "text/plain": [
       "['https://www.google.com/imghp?hl=pt-BR&tab=wi',\n",
       " 'https://maps.google.com.br/maps?hl=pt-BR&tab=wl',\n",
       " 'https://play.google.com/?hl=pt-BR&tab=w8',\n",
       " 'https://www.youtube.com/?tab=w1',\n",
       " 'https://news.google.com/?tab=wn',\n",
       " 'https://mail.google.com/mail/?tab=wm',\n",
       " 'https://drive.google.com/?tab=wo',\n",
       " 'https://www.google.com.br/intl/pt-BR/about/products?tab=wh',\n",
       " 'http://www.google.com.br/history/optout?hl=pt-BR',\n",
       " '/preferences?hl=pt-BR',\n",
       " 'https://accounts.google.com/ServiceLogin?hl=pt-BR&passive=true&continue=https://www.google.com/&ec=GAZAAQ',\n",
       " '/advanced_search?hl=pt-BR&authuser=0',\n",
       " '/intl/pt-BR/ads/',\n",
       " '/services/',\n",
       " '/intl/pt-BR/about.html',\n",
       " 'https://www.google.com/setprefdomain?prefdom=BR&prev=https://www.google.com.br/&sig=K_RbX831xdqnY1PaIw8G2lm1x6koU%3D',\n",
       " '/intl/pt-BR/policies/privacy/',\n",
       " '/intl/pt-BR/policies/terms/']"
      ]
     },
     "execution_count": 17,
     "metadata": {},
     "output_type": "execute_result"
    }
   ],
   "source": [
    "links = soup.find_all('a')\n",
    "links = [link.get('href') for link in links]\n",
    "links"
   ]
  },
  {
   "cell_type": "code",
   "execution_count": 18,
   "metadata": {},
   "outputs": [],
   "source": [
    "data = {\n",
    "    'links': links\n",
    "}"
   ]
  },
  {
   "cell_type": "code",
   "execution_count": 19,
   "metadata": {},
   "outputs": [
    {
     "data": {
      "text/html": [
       "<div>\n",
       "<style scoped>\n",
       "    .dataframe tbody tr th:only-of-type {\n",
       "        vertical-align: middle;\n",
       "    }\n",
       "\n",
       "    .dataframe tbody tr th {\n",
       "        vertical-align: top;\n",
       "    }\n",
       "\n",
       "    .dataframe thead th {\n",
       "        text-align: right;\n",
       "    }\n",
       "</style>\n",
       "<table border=\"1\" class=\"dataframe\">\n",
       "  <thead>\n",
       "    <tr style=\"text-align: right;\">\n",
       "      <th></th>\n",
       "      <th>links</th>\n",
       "    </tr>\n",
       "  </thead>\n",
       "  <tbody>\n",
       "    <tr>\n",
       "      <th>0</th>\n",
       "      <td>https://www.google.com/imghp?hl=pt-BR&amp;tab=wi</td>\n",
       "    </tr>\n",
       "    <tr>\n",
       "      <th>1</th>\n",
       "      <td>https://maps.google.com.br/maps?hl=pt-BR&amp;tab=wl</td>\n",
       "    </tr>\n",
       "    <tr>\n",
       "      <th>2</th>\n",
       "      <td>https://play.google.com/?hl=pt-BR&amp;tab=w8</td>\n",
       "    </tr>\n",
       "    <tr>\n",
       "      <th>3</th>\n",
       "      <td>https://www.youtube.com/?tab=w1</td>\n",
       "    </tr>\n",
       "    <tr>\n",
       "      <th>4</th>\n",
       "      <td>https://news.google.com/?tab=wn</td>\n",
       "    </tr>\n",
       "    <tr>\n",
       "      <th>5</th>\n",
       "      <td>https://mail.google.com/mail/?tab=wm</td>\n",
       "    </tr>\n",
       "    <tr>\n",
       "      <th>6</th>\n",
       "      <td>https://drive.google.com/?tab=wo</td>\n",
       "    </tr>\n",
       "    <tr>\n",
       "      <th>7</th>\n",
       "      <td>https://www.google.com.br/intl/pt-BR/about/pro...</td>\n",
       "    </tr>\n",
       "    <tr>\n",
       "      <th>8</th>\n",
       "      <td>http://www.google.com.br/history/optout?hl=pt-BR</td>\n",
       "    </tr>\n",
       "    <tr>\n",
       "      <th>9</th>\n",
       "      <td>/preferences?hl=pt-BR</td>\n",
       "    </tr>\n",
       "    <tr>\n",
       "      <th>10</th>\n",
       "      <td>https://accounts.google.com/ServiceLogin?hl=pt...</td>\n",
       "    </tr>\n",
       "    <tr>\n",
       "      <th>11</th>\n",
       "      <td>/advanced_search?hl=pt-BR&amp;authuser=0</td>\n",
       "    </tr>\n",
       "    <tr>\n",
       "      <th>12</th>\n",
       "      <td>/intl/pt-BR/ads/</td>\n",
       "    </tr>\n",
       "    <tr>\n",
       "      <th>13</th>\n",
       "      <td>/services/</td>\n",
       "    </tr>\n",
       "    <tr>\n",
       "      <th>14</th>\n",
       "      <td>/intl/pt-BR/about.html</td>\n",
       "    </tr>\n",
       "    <tr>\n",
       "      <th>15</th>\n",
       "      <td>https://www.google.com/setprefdomain?prefdom=B...</td>\n",
       "    </tr>\n",
       "    <tr>\n",
       "      <th>16</th>\n",
       "      <td>/intl/pt-BR/policies/privacy/</td>\n",
       "    </tr>\n",
       "    <tr>\n",
       "      <th>17</th>\n",
       "      <td>/intl/pt-BR/policies/terms/</td>\n",
       "    </tr>\n",
       "  </tbody>\n",
       "</table>\n",
       "</div>"
      ],
      "text/plain": [
       "                                                links\n",
       "0        https://www.google.com/imghp?hl=pt-BR&tab=wi\n",
       "1     https://maps.google.com.br/maps?hl=pt-BR&tab=wl\n",
       "2            https://play.google.com/?hl=pt-BR&tab=w8\n",
       "3                     https://www.youtube.com/?tab=w1\n",
       "4                     https://news.google.com/?tab=wn\n",
       "5                https://mail.google.com/mail/?tab=wm\n",
       "6                    https://drive.google.com/?tab=wo\n",
       "7   https://www.google.com.br/intl/pt-BR/about/pro...\n",
       "8    http://www.google.com.br/history/optout?hl=pt-BR\n",
       "9                               /preferences?hl=pt-BR\n",
       "10  https://accounts.google.com/ServiceLogin?hl=pt...\n",
       "11               /advanced_search?hl=pt-BR&authuser=0\n",
       "12                                   /intl/pt-BR/ads/\n",
       "13                                         /services/\n",
       "14                             /intl/pt-BR/about.html\n",
       "15  https://www.google.com/setprefdomain?prefdom=B...\n",
       "16                      /intl/pt-BR/policies/privacy/\n",
       "17                        /intl/pt-BR/policies/terms/"
      ]
     },
     "execution_count": 19,
     "metadata": {},
     "output_type": "execute_result"
    }
   ],
   "source": [
    "df = pd.DataFrame(data)\n",
    "df"
   ]
  },
  {
   "cell_type": "code",
   "execution_count": 20,
   "metadata": {},
   "outputs": [
    {
     "data": {
      "text/plain": [
       "200"
      ]
     },
     "execution_count": 20,
     "metadata": {},
     "output_type": "execute_result"
    }
   ],
   "source": [
    "headers = {\n",
    "    'User-Agent': 'Mozilla/5.0 (Windows NT 10.0; Win64; x64) AppleWebKit/537.36 (KHTML, like Gecko) Chrome/58.0.3029.110 Safari/537.3'}\n",
    "r = requests.get('https://br.financas.yahoo.com/noticias/acoes-mais-negociadas/',headers=headers)\n",
    "r.status_code"
   ]
  },
  {
   "cell_type": "code",
   "execution_count": 21,
   "metadata": {},
   "outputs": [
    {
     "name": "stdout",
     "output_type": "stream",
     "text": [
      "<Response [200]>\n"
     ]
    }
   ],
   "source": [
    "print(r)"
   ]
  },
  {
   "cell_type": "code",
   "execution_count": 22,
   "metadata": {},
   "outputs": [],
   "source": [
    "def extract_action_data(url):\n",
    "    \"\"\"\n",
    "    Extrai informações das ações mais negociadas do Yahoo Finanças.\n",
    "    \n",
    "    Args:\n",
    "    url (str): URL da página do Yahoo Finanças com as ações mais negociadas.\n",
    "    \n",
    "    Returns:\n",
    "    list: Uma lista de dicionários contendo as informações extraídas.\n",
    "    \"\"\"\n",
    "    # Define headers para simular uma requisição de um navegador web\n",
    "    headers = {\n",
    "        'User-Agent': 'Mozilla/5.0 (X11; Linux x86_64) AppleWebKit/537.36 (KHTML, like Gecko) Chrome/51.0.2704.103 Safari/537.36'\n",
    "    }\n",
    "\n",
    "    # Faz a requisição para o site\n",
    "    response = requests.get(url, headers=headers)\n",
    "    \n",
    "    # Verifica se a requisição foi bem sucedida\n",
    "    if response.status_code == 200:\n",
    "        # Parseia o conteúdo HTML da página\n",
    "        soup = BeautifulSoup(response.content, 'html.parser')\n",
    "        \n",
    "        # Encontra todos os elementos 'tbody' da página, que contém os dados\n",
    "        all_data = soup.find_all('tbody')\n",
    "        stock_data = []\n",
    "        \n",
    "        for stocks in all_data:\n",
    "            # Encontra todos os elementos 'tr', que correspondem às linhas da tabela\n",
    "            rows = stocks.find_all('tr')\n",
    "            for row in rows:\n",
    "                # Encontra todos os elementos 'td', que correspondem às células\n",
    "                cells = row.find_all('td')\n",
    "                if len(cells) > 7:  # Verifica se temos o número esperado de células\n",
    "                    # Extrai os dados de interesse\n",
    "                    data = {\n",
    "                        'stock': cells[0].get_text(),\n",
    "                        'company': cells[1].get_text(),\n",
    "                        'change': cells[3].get_text(),\n",
    "                        'perc_change': cells[4].get_text(),\n",
    "                        'vol_mean_3m': cells[6].get_text(),\n",
    "                        'market_cap': cells[7].get_text()\n",
    "                    }\n",
    "                    stock_data.append(data)\n",
    "        return stock_data\n",
    "    else:\n",
    "        print(f\"Erro {response.status_code}: Não foi possível acessar a página.\")\n",
    "        return None\n"
   ]
  },
  {
   "cell_type": "code",
   "execution_count": 23,
   "metadata": {},
   "outputs": [],
   "source": [
    "acoes_url = 'https://br.financas.yahoo.com/noticias/acoes-mais-negociadas/'"
   ]
  },
  {
   "cell_type": "code",
   "execution_count": 24,
   "metadata": {},
   "outputs": [],
   "source": [
    "acoes_aplicadas = extract_action_data(acoes_url)"
   ]
  },
  {
   "cell_type": "code",
   "execution_count": 25,
   "metadata": {},
   "outputs": [
    {
     "data": {
      "text/plain": [
       "[{'stock': 'FNOR11.SA',\n",
       "  'company': 'Finor -Ci Fund',\n",
       "  'change': '+0,1200',\n",
       "  'perc_change': '+14,29%',\n",
       "  'vol_mean_3m': '2,676M',\n",
       "  'market_cap': 'N/A'},\n",
       " {'stock': 'PETR4.SA',\n",
       "  'company': 'Petróleo Brasileiro S.A. - Petrobras',\n",
       "  'change': '-0,04',\n",
       "  'perc_change': '-0,12%',\n",
       "  'vol_mean_3m': '42,444M',\n",
       "  'market_cap': '461,211B'},\n",
       " {'stock': 'CIEL3.SA',\n",
       "  'company': 'Cielo S.A.',\n",
       "  'change': '-0,02',\n",
       "  'perc_change': '-0,35%',\n",
       "  'vol_mean_3m': '23,694M',\n",
       "  'market_cap': '15,189B'},\n",
       " {'stock': 'COGN3.SA',\n",
       "  'company': 'Cogna Educação S.A.',\n",
       "  'change': '-0,0100',\n",
       "  'perc_change': '-0,60%',\n",
       "  'vol_mean_3m': '34,6M',\n",
       "  'market_cap': '3,114B'},\n",
       " {'stock': 'AMER3.SA',\n",
       "  'company': 'Americanas S.A.',\n",
       "  'change': '+0,0100',\n",
       "  'perc_change': '+2,44%',\n",
       "  'vol_mean_3m': '17,417M',\n",
       "  'market_cap': '370,034M'},\n",
       " {'stock': 'ITUB4.SA',\n",
       "  'company': 'Itaú Unibanco Holding S.A.',\n",
       "  'change': '+0,40',\n",
       "  'perc_change': '+1,28%',\n",
       "  'vol_mean_3m': '23,39M',\n",
       "  'market_cap': '288,766B'},\n",
       " {'stock': 'HAPV3.SA',\n",
       "  'company': 'Hapvida Participações e Investimentos S.A.',\n",
       "  'change': '-0,0200',\n",
       "  'perc_change': '-0,53%',\n",
       "  'vol_mean_3m': '67,444M',\n",
       "  'market_cap': '27,954B'},\n",
       " {'stock': 'MGLU3.SA',\n",
       "  'company': 'Magazine Luiza S.A.',\n",
       "  'change': '-0,24',\n",
       "  'perc_change': '-2,10%',\n",
       "  'vol_mean_3m': '16,3M',\n",
       "  'market_cap': '8,242B'},\n",
       " {'stock': 'ITSA4.SA',\n",
       "  'company': 'Itaúsa S.A.',\n",
       "  'change': '+0,05',\n",
       "  'perc_change': '+0,52%',\n",
       "  'vol_mean_3m': '19,633M',\n",
       "  'market_cap': '99,521B'},\n",
       " {'stock': 'BBDC4.SA',\n",
       "  'company': 'Banco Bradesco S.A.',\n",
       "  'change': '+0,07',\n",
       "  'perc_change': '+0,55%',\n",
       "  'vol_mean_3m': '34,373M',\n",
       "  'market_cap': '129,099B'},\n",
       " {'stock': 'PETR3.SA',\n",
       "  'company': 'Petróleo Brasileiro S.A. - Petrobras',\n",
       "  'change': '-0,15',\n",
       "  'perc_change': '-0,41%',\n",
       "  'vol_mean_3m': '12,422M',\n",
       "  'market_cap': '459,852B'},\n",
       " {'stock': 'AZUL4.SA',\n",
       "  'company': 'Azul S.A.',\n",
       "  'change': '-0,06',\n",
       "  'perc_change': '-0,66%',\n",
       "  'vol_mean_3m': '13,203M',\n",
       "  'market_cap': '3,148B'},\n",
       " {'stock': 'B3SA3.SA',\n",
       "  'company': 'B3 S.A. - Brasil, Bolsa, Balcão',\n",
       "  'change': '+0,02',\n",
       "  'perc_change': '+0,19%',\n",
       "  'vol_mean_3m': '46,228M',\n",
       "  'market_cap': '56,95B'},\n",
       " {'stock': 'VALE3.SA',\n",
       "  'company': 'Vale S.A.',\n",
       "  'change': '-0,46',\n",
       "  'perc_change': '-0,76%',\n",
       "  'vol_mean_3m': '20,157M',\n",
       "  'market_cap': '257,079B'},\n",
       " {'stock': 'NTCO3Q.SA',\n",
       "  'company': 'GRUPO NATURAON      NM',\n",
       "  'change': '+0,09',\n",
       "  'perc_change': '+0,61%',\n",
       "  'vol_mean_3m': 'N/A',\n",
       "  'market_cap': 'N/A'},\n",
       " {'stock': 'CMIG4.SA',\n",
       "  'company': 'Companhia Energética de Minas Gerais - CEMIG',\n",
       "  'change': '+0,04',\n",
       "  'perc_change': '+0,40%',\n",
       "  'vol_mean_3m': '14,585M',\n",
       "  'market_cap': '30,997B'},\n",
       " {'stock': 'NVDC34.SA',\n",
       "  'company': 'NVIDIA Corporation',\n",
       "  'change': '+0,11',\n",
       "  'perc_change': '+0,74%',\n",
       "  'vol_mean_3m': '6,503M',\n",
       "  'market_cap': '17,675T'},\n",
       " {'stock': 'BBAS3.SA',\n",
       "  'company': 'Banco do Brasil S.A.',\n",
       "  'change': '-0,11',\n",
       "  'perc_change': '-0,42%',\n",
       "  'vol_mean_3m': '16,76M',\n",
       "  'market_cap': '150,347B'},\n",
       " {'stock': 'IFCM3.SA',\n",
       "  'company': 'Infracommerce CXaaS S.A.',\n",
       "  'change': '-0,0200',\n",
       "  'perc_change': '-5,41%',\n",
       "  'vol_mean_3m': '11,758M',\n",
       "  'market_cap': '216,744M'},\n",
       " {'stock': 'CVCB3.SA',\n",
       "  'company': 'CVC Brasil Operadora e Agência de Viagens S.A.',\n",
       "  'change': '-0,0200',\n",
       "  'perc_change': '-0,99%',\n",
       "  'vol_mean_3m': '18,291M',\n",
       "  'market_cap': '1,046B'},\n",
       " {'stock': 'ABEV3.SA',\n",
       "  'company': 'Ambev S.A.',\n",
       "  'change': '+0,01',\n",
       "  'perc_change': '+0,09%',\n",
       "  'vol_mean_3m': '30,084M',\n",
       "  'market_cap': '176,92B'},\n",
       " {'stock': 'EMBR3.SA',\n",
       "  'company': 'Embraer S.A.',\n",
       "  'change': '-0,15',\n",
       "  'perc_change': '-0,40%',\n",
       "  'vol_mean_3m': '7,079M',\n",
       "  'market_cap': '27,314B'},\n",
       " {'stock': 'BOVV11.SA',\n",
       "  'company': 'It Now Ibovespa Fundo de Indice',\n",
       "  'change': '-0,48',\n",
       "  'perc_change': '-0,39%',\n",
       "  'vol_mean_3m': '1,792M',\n",
       "  'market_cap': 'N/A'},\n",
       " {'stock': 'BBDC3.SA',\n",
       "  'company': 'Banco Bradesco S.A.',\n",
       "  'change': '+0,02',\n",
       "  'perc_change': '+0,18%',\n",
       "  'vol_mean_3m': '6,879M',\n",
       "  'market_cap': '128,625B'},\n",
       " {'stock': 'DASA3.SA',\n",
       "  'company': 'Diagnósticos da América S.A.',\n",
       "  'change': '-0,1600',\n",
       "  'perc_change': '-3,79%',\n",
       "  'vol_mean_3m': '1,08M',\n",
       "  'market_cap': '3,034B'}]"
      ]
     },
     "execution_count": 25,
     "metadata": {},
     "output_type": "execute_result"
    }
   ],
   "source": [
    "acoes_aplicadas"
   ]
  },
  {
   "cell_type": "code",
   "execution_count": 26,
   "metadata": {},
   "outputs": [
    {
     "data": {
      "text/html": [
       "<div>\n",
       "<style scoped>\n",
       "    .dataframe tbody tr th:only-of-type {\n",
       "        vertical-align: middle;\n",
       "    }\n",
       "\n",
       "    .dataframe tbody tr th {\n",
       "        vertical-align: top;\n",
       "    }\n",
       "\n",
       "    .dataframe thead th {\n",
       "        text-align: right;\n",
       "    }\n",
       "</style>\n",
       "<table border=\"1\" class=\"dataframe\">\n",
       "  <thead>\n",
       "    <tr style=\"text-align: right;\">\n",
       "      <th></th>\n",
       "      <th>stock</th>\n",
       "      <th>company</th>\n",
       "      <th>change</th>\n",
       "      <th>perc_change</th>\n",
       "      <th>vol_mean_3m</th>\n",
       "      <th>market_cap</th>\n",
       "    </tr>\n",
       "  </thead>\n",
       "  <tbody>\n",
       "    <tr>\n",
       "      <th>0</th>\n",
       "      <td>FNOR11.SA</td>\n",
       "      <td>Finor -Ci Fund</td>\n",
       "      <td>+0,1200</td>\n",
       "      <td>+14,29%</td>\n",
       "      <td>2,676M</td>\n",
       "      <td>N/A</td>\n",
       "    </tr>\n",
       "    <tr>\n",
       "      <th>1</th>\n",
       "      <td>PETR4.SA</td>\n",
       "      <td>Petróleo Brasileiro S.A. - Petrobras</td>\n",
       "      <td>-0,04</td>\n",
       "      <td>-0,12%</td>\n",
       "      <td>42,444M</td>\n",
       "      <td>461,211B</td>\n",
       "    </tr>\n",
       "    <tr>\n",
       "      <th>2</th>\n",
       "      <td>CIEL3.SA</td>\n",
       "      <td>Cielo S.A.</td>\n",
       "      <td>-0,02</td>\n",
       "      <td>-0,35%</td>\n",
       "      <td>23,694M</td>\n",
       "      <td>15,189B</td>\n",
       "    </tr>\n",
       "    <tr>\n",
       "      <th>3</th>\n",
       "      <td>COGN3.SA</td>\n",
       "      <td>Cogna Educação S.A.</td>\n",
       "      <td>-0,0100</td>\n",
       "      <td>-0,60%</td>\n",
       "      <td>34,6M</td>\n",
       "      <td>3,114B</td>\n",
       "    </tr>\n",
       "    <tr>\n",
       "      <th>4</th>\n",
       "      <td>AMER3.SA</td>\n",
       "      <td>Americanas S.A.</td>\n",
       "      <td>+0,0100</td>\n",
       "      <td>+2,44%</td>\n",
       "      <td>17,417M</td>\n",
       "      <td>370,034M</td>\n",
       "    </tr>\n",
       "    <tr>\n",
       "      <th>5</th>\n",
       "      <td>ITUB4.SA</td>\n",
       "      <td>Itaú Unibanco Holding S.A.</td>\n",
       "      <td>+0,40</td>\n",
       "      <td>+1,28%</td>\n",
       "      <td>23,39M</td>\n",
       "      <td>288,766B</td>\n",
       "    </tr>\n",
       "    <tr>\n",
       "      <th>6</th>\n",
       "      <td>HAPV3.SA</td>\n",
       "      <td>Hapvida Participações e Investimentos S.A.</td>\n",
       "      <td>-0,0200</td>\n",
       "      <td>-0,53%</td>\n",
       "      <td>67,444M</td>\n",
       "      <td>27,954B</td>\n",
       "    </tr>\n",
       "    <tr>\n",
       "      <th>7</th>\n",
       "      <td>MGLU3.SA</td>\n",
       "      <td>Magazine Luiza S.A.</td>\n",
       "      <td>-0,24</td>\n",
       "      <td>-2,10%</td>\n",
       "      <td>16,3M</td>\n",
       "      <td>8,242B</td>\n",
       "    </tr>\n",
       "    <tr>\n",
       "      <th>8</th>\n",
       "      <td>ITSA4.SA</td>\n",
       "      <td>Itaúsa S.A.</td>\n",
       "      <td>+0,05</td>\n",
       "      <td>+0,52%</td>\n",
       "      <td>19,633M</td>\n",
       "      <td>99,521B</td>\n",
       "    </tr>\n",
       "    <tr>\n",
       "      <th>9</th>\n",
       "      <td>BBDC4.SA</td>\n",
       "      <td>Banco Bradesco S.A.</td>\n",
       "      <td>+0,07</td>\n",
       "      <td>+0,55%</td>\n",
       "      <td>34,373M</td>\n",
       "      <td>129,099B</td>\n",
       "    </tr>\n",
       "    <tr>\n",
       "      <th>10</th>\n",
       "      <td>PETR3.SA</td>\n",
       "      <td>Petróleo Brasileiro S.A. - Petrobras</td>\n",
       "      <td>-0,15</td>\n",
       "      <td>-0,41%</td>\n",
       "      <td>12,422M</td>\n",
       "      <td>459,852B</td>\n",
       "    </tr>\n",
       "    <tr>\n",
       "      <th>11</th>\n",
       "      <td>AZUL4.SA</td>\n",
       "      <td>Azul S.A.</td>\n",
       "      <td>-0,06</td>\n",
       "      <td>-0,66%</td>\n",
       "      <td>13,203M</td>\n",
       "      <td>3,148B</td>\n",
       "    </tr>\n",
       "    <tr>\n",
       "      <th>12</th>\n",
       "      <td>B3SA3.SA</td>\n",
       "      <td>B3 S.A. - Brasil, Bolsa, Balcão</td>\n",
       "      <td>+0,02</td>\n",
       "      <td>+0,19%</td>\n",
       "      <td>46,228M</td>\n",
       "      <td>56,95B</td>\n",
       "    </tr>\n",
       "    <tr>\n",
       "      <th>13</th>\n",
       "      <td>VALE3.SA</td>\n",
       "      <td>Vale S.A.</td>\n",
       "      <td>-0,46</td>\n",
       "      <td>-0,76%</td>\n",
       "      <td>20,157M</td>\n",
       "      <td>257,079B</td>\n",
       "    </tr>\n",
       "    <tr>\n",
       "      <th>14</th>\n",
       "      <td>NTCO3Q.SA</td>\n",
       "      <td>GRUPO NATURAON      NM</td>\n",
       "      <td>+0,09</td>\n",
       "      <td>+0,61%</td>\n",
       "      <td>N/A</td>\n",
       "      <td>N/A</td>\n",
       "    </tr>\n",
       "    <tr>\n",
       "      <th>15</th>\n",
       "      <td>CMIG4.SA</td>\n",
       "      <td>Companhia Energética de Minas Gerais - CEMIG</td>\n",
       "      <td>+0,04</td>\n",
       "      <td>+0,40%</td>\n",
       "      <td>14,585M</td>\n",
       "      <td>30,997B</td>\n",
       "    </tr>\n",
       "    <tr>\n",
       "      <th>16</th>\n",
       "      <td>NVDC34.SA</td>\n",
       "      <td>NVIDIA Corporation</td>\n",
       "      <td>+0,11</td>\n",
       "      <td>+0,74%</td>\n",
       "      <td>6,503M</td>\n",
       "      <td>17,675T</td>\n",
       "    </tr>\n",
       "    <tr>\n",
       "      <th>17</th>\n",
       "      <td>BBAS3.SA</td>\n",
       "      <td>Banco do Brasil S.A.</td>\n",
       "      <td>-0,11</td>\n",
       "      <td>-0,42%</td>\n",
       "      <td>16,76M</td>\n",
       "      <td>150,347B</td>\n",
       "    </tr>\n",
       "    <tr>\n",
       "      <th>18</th>\n",
       "      <td>IFCM3.SA</td>\n",
       "      <td>Infracommerce CXaaS S.A.</td>\n",
       "      <td>-0,0200</td>\n",
       "      <td>-5,41%</td>\n",
       "      <td>11,758M</td>\n",
       "      <td>216,744M</td>\n",
       "    </tr>\n",
       "    <tr>\n",
       "      <th>19</th>\n",
       "      <td>CVCB3.SA</td>\n",
       "      <td>CVC Brasil Operadora e Agência de Viagens S.A.</td>\n",
       "      <td>-0,0200</td>\n",
       "      <td>-0,99%</td>\n",
       "      <td>18,291M</td>\n",
       "      <td>1,046B</td>\n",
       "    </tr>\n",
       "    <tr>\n",
       "      <th>20</th>\n",
       "      <td>ABEV3.SA</td>\n",
       "      <td>Ambev S.A.</td>\n",
       "      <td>+0,01</td>\n",
       "      <td>+0,09%</td>\n",
       "      <td>30,084M</td>\n",
       "      <td>176,92B</td>\n",
       "    </tr>\n",
       "    <tr>\n",
       "      <th>21</th>\n",
       "      <td>EMBR3.SA</td>\n",
       "      <td>Embraer S.A.</td>\n",
       "      <td>-0,15</td>\n",
       "      <td>-0,40%</td>\n",
       "      <td>7,079M</td>\n",
       "      <td>27,314B</td>\n",
       "    </tr>\n",
       "    <tr>\n",
       "      <th>22</th>\n",
       "      <td>BOVV11.SA</td>\n",
       "      <td>It Now Ibovespa Fundo de Indice</td>\n",
       "      <td>-0,48</td>\n",
       "      <td>-0,39%</td>\n",
       "      <td>1,792M</td>\n",
       "      <td>N/A</td>\n",
       "    </tr>\n",
       "    <tr>\n",
       "      <th>23</th>\n",
       "      <td>BBDC3.SA</td>\n",
       "      <td>Banco Bradesco S.A.</td>\n",
       "      <td>+0,02</td>\n",
       "      <td>+0,18%</td>\n",
       "      <td>6,879M</td>\n",
       "      <td>128,625B</td>\n",
       "    </tr>\n",
       "    <tr>\n",
       "      <th>24</th>\n",
       "      <td>DASA3.SA</td>\n",
       "      <td>Diagnósticos da América S.A.</td>\n",
       "      <td>-0,1600</td>\n",
       "      <td>-3,79%</td>\n",
       "      <td>1,08M</td>\n",
       "      <td>3,034B</td>\n",
       "    </tr>\n",
       "  </tbody>\n",
       "</table>\n",
       "</div>"
      ],
      "text/plain": [
       "        stock                                         company   change  \\\n",
       "0   FNOR11.SA                                  Finor -Ci Fund  +0,1200   \n",
       "1    PETR4.SA            Petróleo Brasileiro S.A. - Petrobras    -0,04   \n",
       "2    CIEL3.SA                                      Cielo S.A.    -0,02   \n",
       "3    COGN3.SA                             Cogna Educação S.A.  -0,0100   \n",
       "4    AMER3.SA                                 Americanas S.A.  +0,0100   \n",
       "5    ITUB4.SA                      Itaú Unibanco Holding S.A.    +0,40   \n",
       "6    HAPV3.SA      Hapvida Participações e Investimentos S.A.  -0,0200   \n",
       "7    MGLU3.SA                             Magazine Luiza S.A.    -0,24   \n",
       "8    ITSA4.SA                                     Itaúsa S.A.    +0,05   \n",
       "9    BBDC4.SA                             Banco Bradesco S.A.    +0,07   \n",
       "10   PETR3.SA            Petróleo Brasileiro S.A. - Petrobras    -0,15   \n",
       "11   AZUL4.SA                                       Azul S.A.    -0,06   \n",
       "12   B3SA3.SA                 B3 S.A. - Brasil, Bolsa, Balcão    +0,02   \n",
       "13   VALE3.SA                                       Vale S.A.    -0,46   \n",
       "14  NTCO3Q.SA                          GRUPO NATURAON      NM    +0,09   \n",
       "15   CMIG4.SA    Companhia Energética de Minas Gerais - CEMIG    +0,04   \n",
       "16  NVDC34.SA                              NVIDIA Corporation    +0,11   \n",
       "17   BBAS3.SA                            Banco do Brasil S.A.    -0,11   \n",
       "18   IFCM3.SA                        Infracommerce CXaaS S.A.  -0,0200   \n",
       "19   CVCB3.SA  CVC Brasil Operadora e Agência de Viagens S.A.  -0,0200   \n",
       "20   ABEV3.SA                                      Ambev S.A.    +0,01   \n",
       "21   EMBR3.SA                                    Embraer S.A.    -0,15   \n",
       "22  BOVV11.SA                 It Now Ibovespa Fundo de Indice    -0,48   \n",
       "23   BBDC3.SA                             Banco Bradesco S.A.    +0,02   \n",
       "24   DASA3.SA                    Diagnósticos da América S.A.  -0,1600   \n",
       "\n",
       "   perc_change vol_mean_3m market_cap  \n",
       "0      +14,29%      2,676M        N/A  \n",
       "1       -0,12%     42,444M   461,211B  \n",
       "2       -0,35%     23,694M    15,189B  \n",
       "3       -0,60%       34,6M     3,114B  \n",
       "4       +2,44%     17,417M   370,034M  \n",
       "5       +1,28%      23,39M   288,766B  \n",
       "6       -0,53%     67,444M    27,954B  \n",
       "7       -2,10%       16,3M     8,242B  \n",
       "8       +0,52%     19,633M    99,521B  \n",
       "9       +0,55%     34,373M   129,099B  \n",
       "10      -0,41%     12,422M   459,852B  \n",
       "11      -0,66%     13,203M     3,148B  \n",
       "12      +0,19%     46,228M     56,95B  \n",
       "13      -0,76%     20,157M   257,079B  \n",
       "14      +0,61%         N/A        N/A  \n",
       "15      +0,40%     14,585M    30,997B  \n",
       "16      +0,74%      6,503M    17,675T  \n",
       "17      -0,42%      16,76M   150,347B  \n",
       "18      -5,41%     11,758M   216,744M  \n",
       "19      -0,99%     18,291M     1,046B  \n",
       "20      +0,09%     30,084M    176,92B  \n",
       "21      -0,40%      7,079M    27,314B  \n",
       "22      -0,39%      1,792M        N/A  \n",
       "23      +0,18%      6,879M   128,625B  \n",
       "24      -3,79%       1,08M     3,034B  "
      ]
     },
     "execution_count": 26,
     "metadata": {},
     "output_type": "execute_result"
    }
   ],
   "source": [
    "df_acoes = pd.DataFrame(acoes_aplicadas)\n",
    "df_acoes"
   ]
  },
  {
   "cell_type": "code",
   "execution_count": 27,
   "metadata": {},
   "outputs": [],
   "source": [
    "df_acoes.to_csv('acoes.csv',index=True)"
   ]
  },
  {
   "cell_type": "code",
   "execution_count": 36,
   "metadata": {},
   "outputs": [
    {
     "data": {
      "text/plain": [
       "array(['FNOR11.SA', 'PETR4.SA', 'CIEL3.SA', 'COGN3.SA', 'AMER3.SA',\n",
       "       'ITUB4.SA', 'HAPV3.SA', 'MGLU3.SA', 'ITSA4.SA', 'BBDC4.SA',\n",
       "       'PETR3.SA', 'AZUL4.SA', 'B3SA3.SA', 'VALE3.SA', 'NTCO3Q.SA',\n",
       "       'CMIG4.SA', 'NVDC34.SA', 'BBAS3.SA', 'IFCM3.SA', 'CVCB3.SA',\n",
       "       'ABEV3.SA', 'EMBR3.SA', 'BOVV11.SA', 'BBDC3.SA', 'DASA3.SA'],\n",
       "      dtype=object)"
      ]
     },
     "execution_count": 36,
     "metadata": {},
     "output_type": "execute_result"
    }
   ],
   "source": [
    "df_acoes['stock'].unique()"
   ]
  },
  {
   "cell_type": "markdown",
   "metadata": {},
   "source": []
  }
 ],
 "metadata": {
  "kernelspec": {
   "display_name": "Python 3",
   "language": "python",
   "name": "python3"
  },
  "language_info": {
   "codemirror_mode": {
    "name": "ipython",
    "version": 3
   },
   "file_extension": ".py",
   "mimetype": "text/x-python",
   "name": "python",
   "nbconvert_exporter": "python",
   "pygments_lexer": "ipython3",
   "version": "3.10.12"
  }
 },
 "nbformat": 4,
 "nbformat_minor": 2
}
